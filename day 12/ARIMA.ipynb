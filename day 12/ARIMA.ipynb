{
 "cells": [
  {
   "cell_type": "code",
   "execution_count": 1,
   "id": "81961c01",
   "metadata": {
    "execution": {
     "iopub.execute_input": "2021-08-11T06:53:21.687844Z",
     "iopub.status.busy": "2021-08-11T06:53:21.687164Z",
     "iopub.status.idle": "2021-08-11T06:53:22.615383Z",
     "shell.execute_reply": "2021-08-11T06:53:22.614601Z",
     "shell.execute_reply.started": "2021-08-06T15:01:01.107383Z"
    },
    "papermill": {
     "duration": 0.968887,
     "end_time": "2021-08-11T06:53:22.615554",
     "exception": false,
     "start_time": "2021-08-11T06:53:21.646667",
     "status": "completed"
    },
    "tags": []
   },
   "outputs": [],
   "source": [
    "import numpy as np\n",
    "import matplotlib.pyplot as plt\n",
    "import pandas as pd\n",
    "import seaborn as sns"
   ]
  },
  {
   "cell_type": "code",
   "execution_count": 2,
   "id": "a69ff226",
   "metadata": {
    "execution": {
     "iopub.execute_input": "2021-08-11T06:53:22.679196Z",
     "iopub.status.busy": "2021-08-11T06:53:22.678546Z",
     "iopub.status.idle": "2021-08-11T06:53:22.723361Z",
     "shell.execute_reply": "2021-08-11T06:53:22.723867Z",
     "shell.execute_reply.started": "2021-08-06T15:03:13.189166Z"
    },
    "papermill": {
     "duration": 0.077978,
     "end_time": "2021-08-11T06:53:22.724047",
     "exception": false,
     "start_time": "2021-08-11T06:53:22.646069",
     "status": "completed"
    },
    "tags": []
   },
   "outputs": [
    {
     "data": {
      "text/html": [
       "<div>\n",
       "<style scoped>\n",
       "    .dataframe tbody tr th:only-of-type {\n",
       "        vertical-align: middle;\n",
       "    }\n",
       "\n",
       "    .dataframe tbody tr th {\n",
       "        vertical-align: top;\n",
       "    }\n",
       "\n",
       "    .dataframe thead th {\n",
       "        text-align: right;\n",
       "    }\n",
       "</style>\n",
       "<table border=\"1\" class=\"dataframe\">\n",
       "  <thead>\n",
       "    <tr style=\"text-align: right;\">\n",
       "      <th></th>\n",
       "      <th>Month</th>\n",
       "      <th>#Passengers</th>\n",
       "    </tr>\n",
       "  </thead>\n",
       "  <tbody>\n",
       "    <tr>\n",
       "      <th>0</th>\n",
       "      <td>1949-01</td>\n",
       "      <td>112</td>\n",
       "    </tr>\n",
       "    <tr>\n",
       "      <th>1</th>\n",
       "      <td>1949-02</td>\n",
       "      <td>118</td>\n",
       "    </tr>\n",
       "    <tr>\n",
       "      <th>2</th>\n",
       "      <td>1949-03</td>\n",
       "      <td>132</td>\n",
       "    </tr>\n",
       "    <tr>\n",
       "      <th>3</th>\n",
       "      <td>1949-04</td>\n",
       "      <td>129</td>\n",
       "    </tr>\n",
       "    <tr>\n",
       "      <th>4</th>\n",
       "      <td>1949-05</td>\n",
       "      <td>121</td>\n",
       "    </tr>\n",
       "    <tr>\n",
       "      <th>...</th>\n",
       "      <td>...</td>\n",
       "      <td>...</td>\n",
       "    </tr>\n",
       "    <tr>\n",
       "      <th>139</th>\n",
       "      <td>1960-08</td>\n",
       "      <td>606</td>\n",
       "    </tr>\n",
       "    <tr>\n",
       "      <th>140</th>\n",
       "      <td>1960-09</td>\n",
       "      <td>508</td>\n",
       "    </tr>\n",
       "    <tr>\n",
       "      <th>141</th>\n",
       "      <td>1960-10</td>\n",
       "      <td>461</td>\n",
       "    </tr>\n",
       "    <tr>\n",
       "      <th>142</th>\n",
       "      <td>1960-11</td>\n",
       "      <td>390</td>\n",
       "    </tr>\n",
       "    <tr>\n",
       "      <th>143</th>\n",
       "      <td>1960-12</td>\n",
       "      <td>432</td>\n",
       "    </tr>\n",
       "  </tbody>\n",
       "</table>\n",
       "<p>144 rows × 2 columns</p>\n",
       "</div>"
      ],
      "text/plain": [
       "       Month  #Passengers\n",
       "0    1949-01          112\n",
       "1    1949-02          118\n",
       "2    1949-03          132\n",
       "3    1949-04          129\n",
       "4    1949-05          121\n",
       "..       ...          ...\n",
       "139  1960-08          606\n",
       "140  1960-09          508\n",
       "141  1960-10          461\n",
       "142  1960-11          390\n",
       "143  1960-12          432\n",
       "\n",
       "[144 rows x 2 columns]"
      ]
     },
     "execution_count": 2,
     "metadata": {},
     "output_type": "execute_result"
    }
   ],
   "source": [
    "df =pd.read_csv(\"../input/air-passenger-data-for-time-series-analysis/AirPassengers.csv\")\n",
    "df"
   ]
  },
  {
   "cell_type": "code",
   "execution_count": 3,
   "id": "4f094292",
   "metadata": {
    "execution": {
     "iopub.execute_input": "2021-08-11T06:53:22.788165Z",
     "iopub.status.busy": "2021-08-11T06:53:22.787246Z",
     "iopub.status.idle": "2021-08-11T06:53:22.791133Z",
     "shell.execute_reply": "2021-08-11T06:53:22.791601Z",
     "shell.execute_reply.started": "2021-08-06T15:03:15.236428Z"
    },
    "papermill": {
     "duration": 0.038556,
     "end_time": "2021-08-11T06:53:22.791771",
     "exception": false,
     "start_time": "2021-08-11T06:53:22.753215",
     "status": "completed"
    },
    "tags": []
   },
   "outputs": [
    {
     "data": {
      "text/plain": [
       "Index(['Month', '#Passengers'], dtype='object')"
      ]
     },
     "execution_count": 3,
     "metadata": {},
     "output_type": "execute_result"
    }
   ],
   "source": [
    "df.columns"
   ]
  },
  {
   "cell_type": "code",
   "execution_count": 4,
   "id": "7fc39077",
   "metadata": {
    "execution": {
     "iopub.execute_input": "2021-08-11T06:53:22.885879Z",
     "iopub.status.busy": "2021-08-11T06:53:22.885195Z",
     "iopub.status.idle": "2021-08-11T06:53:22.887933Z",
     "shell.execute_reply": "2021-08-11T06:53:22.888491Z",
     "shell.execute_reply.started": "2021-08-06T15:03:16.860755Z"
    },
    "papermill": {
     "duration": 0.061374,
     "end_time": "2021-08-11T06:53:22.888652",
     "exception": false,
     "start_time": "2021-08-11T06:53:22.827278",
     "status": "completed"
    },
    "tags": []
   },
   "outputs": [
    {
     "data": {
      "text/html": [
       "<div>\n",
       "<style scoped>\n",
       "    .dataframe tbody tr th:only-of-type {\n",
       "        vertical-align: middle;\n",
       "    }\n",
       "\n",
       "    .dataframe tbody tr th {\n",
       "        vertical-align: top;\n",
       "    }\n",
       "\n",
       "    .dataframe thead th {\n",
       "        text-align: right;\n",
       "    }\n",
       "</style>\n",
       "<table border=\"1\" class=\"dataframe\">\n",
       "  <thead>\n",
       "    <tr style=\"text-align: right;\">\n",
       "      <th></th>\n",
       "      <th>Month</th>\n",
       "      <th>#Passengers</th>\n",
       "    </tr>\n",
       "  </thead>\n",
       "  <tbody>\n",
       "    <tr>\n",
       "      <th>0</th>\n",
       "      <td>1949-01-01</td>\n",
       "      <td>112</td>\n",
       "    </tr>\n",
       "    <tr>\n",
       "      <th>1</th>\n",
       "      <td>1949-02-01</td>\n",
       "      <td>118</td>\n",
       "    </tr>\n",
       "    <tr>\n",
       "      <th>2</th>\n",
       "      <td>1949-03-01</td>\n",
       "      <td>132</td>\n",
       "    </tr>\n",
       "    <tr>\n",
       "      <th>3</th>\n",
       "      <td>1949-04-01</td>\n",
       "      <td>129</td>\n",
       "    </tr>\n",
       "    <tr>\n",
       "      <th>4</th>\n",
       "      <td>1949-05-01</td>\n",
       "      <td>121</td>\n",
       "    </tr>\n",
       "    <tr>\n",
       "      <th>...</th>\n",
       "      <td>...</td>\n",
       "      <td>...</td>\n",
       "    </tr>\n",
       "    <tr>\n",
       "      <th>139</th>\n",
       "      <td>1960-08-01</td>\n",
       "      <td>606</td>\n",
       "    </tr>\n",
       "    <tr>\n",
       "      <th>140</th>\n",
       "      <td>1960-09-01</td>\n",
       "      <td>508</td>\n",
       "    </tr>\n",
       "    <tr>\n",
       "      <th>141</th>\n",
       "      <td>1960-10-01</td>\n",
       "      <td>461</td>\n",
       "    </tr>\n",
       "    <tr>\n",
       "      <th>142</th>\n",
       "      <td>1960-11-01</td>\n",
       "      <td>390</td>\n",
       "    </tr>\n",
       "    <tr>\n",
       "      <th>143</th>\n",
       "      <td>1960-12-01</td>\n",
       "      <td>432</td>\n",
       "    </tr>\n",
       "  </tbody>\n",
       "</table>\n",
       "<p>144 rows × 2 columns</p>\n",
       "</div>"
      ],
      "text/plain": [
       "         Month  #Passengers\n",
       "0   1949-01-01          112\n",
       "1   1949-02-01          118\n",
       "2   1949-03-01          132\n",
       "3   1949-04-01          129\n",
       "4   1949-05-01          121\n",
       "..         ...          ...\n",
       "139 1960-08-01          606\n",
       "140 1960-09-01          508\n",
       "141 1960-10-01          461\n",
       "142 1960-11-01          390\n",
       "143 1960-12-01          432\n",
       "\n",
       "[144 rows x 2 columns]"
      ]
     },
     "execution_count": 4,
     "metadata": {},
     "output_type": "execute_result"
    }
   ],
   "source": [
    "df[\"Month\"]=pd.to_datetime(df[\"Month\"])\n",
    "df"
   ]
  },
  {
   "cell_type": "code",
   "execution_count": 5,
   "id": "3255638f",
   "metadata": {
    "execution": {
     "iopub.execute_input": "2021-08-11T06:53:22.955845Z",
     "iopub.status.busy": "2021-08-11T06:53:22.955238Z",
     "iopub.status.idle": "2021-08-11T06:53:22.961284Z",
     "shell.execute_reply": "2021-08-11T06:53:22.961836Z",
     "shell.execute_reply.started": "2021-08-06T15:03:18.022966Z"
    },
    "papermill": {
     "duration": 0.038934,
     "end_time": "2021-08-11T06:53:22.962105",
     "exception": false,
     "start_time": "2021-08-11T06:53:22.923171",
     "status": "completed"
    },
    "tags": []
   },
   "outputs": [
    {
     "data": {
      "text/plain": [
       "Month          datetime64[ns]\n",
       "#Passengers             int64\n",
       "dtype: object"
      ]
     },
     "execution_count": 5,
     "metadata": {},
     "output_type": "execute_result"
    }
   ],
   "source": [
    "df.dtypes"
   ]
  },
  {
   "cell_type": "code",
   "execution_count": 6,
   "id": "e633d4b6",
   "metadata": {
    "execution": {
     "iopub.execute_input": "2021-08-11T06:53:23.029628Z",
     "iopub.status.busy": "2021-08-11T06:53:23.028950Z",
     "iopub.status.idle": "2021-08-11T06:53:23.040286Z",
     "shell.execute_reply": "2021-08-11T06:53:23.040889Z",
     "shell.execute_reply.started": "2021-08-06T15:03:19.35623Z"
    },
    "papermill": {
     "duration": 0.045735,
     "end_time": "2021-08-11T06:53:23.041070",
     "exception": false,
     "start_time": "2021-08-11T06:53:22.995335",
     "status": "completed"
    },
    "tags": []
   },
   "outputs": [
    {
     "data": {
      "text/html": [
       "<div>\n",
       "<style scoped>\n",
       "    .dataframe tbody tr th:only-of-type {\n",
       "        vertical-align: middle;\n",
       "    }\n",
       "\n",
       "    .dataframe tbody tr th {\n",
       "        vertical-align: top;\n",
       "    }\n",
       "\n",
       "    .dataframe thead th {\n",
       "        text-align: right;\n",
       "    }\n",
       "</style>\n",
       "<table border=\"1\" class=\"dataframe\">\n",
       "  <thead>\n",
       "    <tr style=\"text-align: right;\">\n",
       "      <th></th>\n",
       "      <th>#Passengers</th>\n",
       "    </tr>\n",
       "    <tr>\n",
       "      <th>Month</th>\n",
       "      <th></th>\n",
       "    </tr>\n",
       "  </thead>\n",
       "  <tbody>\n",
       "    <tr>\n",
       "      <th>1949-01-01</th>\n",
       "      <td>112</td>\n",
       "    </tr>\n",
       "    <tr>\n",
       "      <th>1949-02-01</th>\n",
       "      <td>118</td>\n",
       "    </tr>\n",
       "    <tr>\n",
       "      <th>1949-03-01</th>\n",
       "      <td>132</td>\n",
       "    </tr>\n",
       "    <tr>\n",
       "      <th>1949-04-01</th>\n",
       "      <td>129</td>\n",
       "    </tr>\n",
       "    <tr>\n",
       "      <th>1949-05-01</th>\n",
       "      <td>121</td>\n",
       "    </tr>\n",
       "    <tr>\n",
       "      <th>...</th>\n",
       "      <td>...</td>\n",
       "    </tr>\n",
       "    <tr>\n",
       "      <th>1960-08-01</th>\n",
       "      <td>606</td>\n",
       "    </tr>\n",
       "    <tr>\n",
       "      <th>1960-09-01</th>\n",
       "      <td>508</td>\n",
       "    </tr>\n",
       "    <tr>\n",
       "      <th>1960-10-01</th>\n",
       "      <td>461</td>\n",
       "    </tr>\n",
       "    <tr>\n",
       "      <th>1960-11-01</th>\n",
       "      <td>390</td>\n",
       "    </tr>\n",
       "    <tr>\n",
       "      <th>1960-12-01</th>\n",
       "      <td>432</td>\n",
       "    </tr>\n",
       "  </tbody>\n",
       "</table>\n",
       "<p>144 rows × 1 columns</p>\n",
       "</div>"
      ],
      "text/plain": [
       "            #Passengers\n",
       "Month                  \n",
       "1949-01-01          112\n",
       "1949-02-01          118\n",
       "1949-03-01          132\n",
       "1949-04-01          129\n",
       "1949-05-01          121\n",
       "...                 ...\n",
       "1960-08-01          606\n",
       "1960-09-01          508\n",
       "1960-10-01          461\n",
       "1960-11-01          390\n",
       "1960-12-01          432\n",
       "\n",
       "[144 rows x 1 columns]"
      ]
     },
     "execution_count": 6,
     "metadata": {},
     "output_type": "execute_result"
    }
   ],
   "source": [
    "df.set_index(\"Month\",inplace=True)\n",
    "df"
   ]
  },
  {
   "cell_type": "code",
   "execution_count": 7,
   "id": "6200f567",
   "metadata": {
    "execution": {
     "iopub.execute_input": "2021-08-11T06:53:23.124000Z",
     "iopub.status.busy": "2021-08-11T06:53:23.108645Z",
     "iopub.status.idle": "2021-08-11T06:53:23.301300Z",
     "shell.execute_reply": "2021-08-11T06:53:23.301775Z",
     "shell.execute_reply.started": "2021-08-06T15:03:20.213922Z"
    },
    "papermill": {
     "duration": 0.230028,
     "end_time": "2021-08-11T06:53:23.301960",
     "exception": false,
     "start_time": "2021-08-11T06:53:23.071932",
     "status": "completed"
    },
    "tags": []
   },
   "outputs": [
    {
     "data": {
      "text/plain": [
       "[<matplotlib.lines.Line2D at 0x7f896f13bf50>]"
      ]
     },
     "execution_count": 7,
     "metadata": {},
     "output_type": "execute_result"
    },
    {
     "data": {
      "image/png": "[encoded data removed]",
      "text/plain": [
       "<Figure size 432x288 with 1 Axes>"
      ]
     },
     "metadata": {
      "needs_background": "light"
     },
     "output_type": "display_data"
    }
   ],
   "source": [
    "plt.plot(df[\"#Passengers\"])"
   ]
  },
  {
   "cell_type": "code",
   "execution_count": 8,
   "id": "4bc9d9d6",
   "metadata": {
    "execution": {
     "iopub.execute_input": "2021-08-11T06:53:23.370763Z",
     "iopub.status.busy": "2021-08-11T06:53:23.370168Z",
     "iopub.status.idle": "2021-08-11T06:53:23.594215Z",
     "shell.execute_reply": "2021-08-11T06:53:23.593267Z",
     "shell.execute_reply.started": "2021-08-06T15:03:21.581349Z"
    },
    "papermill": {
     "duration": 0.260196,
     "end_time": "2021-08-11T06:53:23.594439",
     "exception": false,
     "start_time": "2021-08-11T06:53:23.334243",
     "status": "completed"
    },
    "tags": []
   },
   "outputs": [],
   "source": [
    "from statsmodels.tsa.stattools import adfuller\n",
    "adf,pvalue,usedlag_,nobs_,critical_values_,icbest_=adfuller(df)"
   ]
  },
  {
   "cell_type": "code",
   "execution_count": 9,
   "id": "123a16ea",
   "metadata": {
    "execution": {
     "iopub.execute_input": "2021-08-11T06:53:23.669733Z",
     "iopub.status.busy": "2021-08-11T06:53:23.668804Z",
     "iopub.status.idle": "2021-08-11T06:53:23.672996Z",
     "shell.execute_reply": "2021-08-11T06:53:23.673694Z",
     "shell.execute_reply.started": "2021-08-06T15:03:23.014952Z"
    },
    "papermill": {
     "duration": 0.041236,
     "end_time": "2021-08-11T06:53:23.673934",
     "exception": false,
     "start_time": "2021-08-11T06:53:23.632698",
     "status": "completed"
    },
    "tags": []
   },
   "outputs": [
    {
     "name": "stdout",
     "output_type": "stream",
     "text": [
      "0.9918802434376409\n"
     ]
    }
   ],
   "source": [
    "print(pvalue) #if pvalue > 0.05 then data is not stationary"
   ]
  },
  {
   "cell_type": "code",
   "execution_count": 10,
   "id": "7cb73cc7",
   "metadata": {
    "execution": {
     "iopub.execute_input": "2021-08-11T06:53:23.743198Z",
     "iopub.status.busy": "2021-08-11T06:53:23.742560Z",
     "iopub.status.idle": "2021-08-11T06:53:23.761650Z",
     "shell.execute_reply": "2021-08-11T06:53:23.762150Z",
     "shell.execute_reply.started": "2021-08-06T15:03:24.174429Z"
    },
    "papermill": {
     "duration": 0.055112,
     "end_time": "2021-08-11T06:53:23.762317",
     "exception": false,
     "start_time": "2021-08-11T06:53:23.707205",
     "status": "completed"
    },
    "tags": []
   },
   "outputs": [
    {
     "data": {
      "text/html": [
       "<div>\n",
       "<style scoped>\n",
       "    .dataframe tbody tr th:only-of-type {\n",
       "        vertical-align: middle;\n",
       "    }\n",
       "\n",
       "    .dataframe tbody tr th {\n",
       "        vertical-align: top;\n",
       "    }\n",
       "\n",
       "    .dataframe thead th {\n",
       "        text-align: right;\n",
       "    }\n",
       "</style>\n",
       "<table border=\"1\" class=\"dataframe\">\n",
       "  <thead>\n",
       "    <tr style=\"text-align: right;\">\n",
       "      <th></th>\n",
       "      <th>#Passengers</th>\n",
       "      <th>year</th>\n",
       "    </tr>\n",
       "    <tr>\n",
       "      <th>Month</th>\n",
       "      <th></th>\n",
       "      <th></th>\n",
       "    </tr>\n",
       "  </thead>\n",
       "  <tbody>\n",
       "    <tr>\n",
       "      <th>1949-01-01</th>\n",
       "      <td>112</td>\n",
       "      <td>1949</td>\n",
       "    </tr>\n",
       "    <tr>\n",
       "      <th>1949-02-01</th>\n",
       "      <td>118</td>\n",
       "      <td>1949</td>\n",
       "    </tr>\n",
       "    <tr>\n",
       "      <th>1949-03-01</th>\n",
       "      <td>132</td>\n",
       "      <td>1949</td>\n",
       "    </tr>\n",
       "    <tr>\n",
       "      <th>1949-04-01</th>\n",
       "      <td>129</td>\n",
       "      <td>1949</td>\n",
       "    </tr>\n",
       "    <tr>\n",
       "      <th>1949-05-01</th>\n",
       "      <td>121</td>\n",
       "      <td>1949</td>\n",
       "    </tr>\n",
       "    <tr>\n",
       "      <th>...</th>\n",
       "      <td>...</td>\n",
       "      <td>...</td>\n",
       "    </tr>\n",
       "    <tr>\n",
       "      <th>1960-08-01</th>\n",
       "      <td>606</td>\n",
       "      <td>1960</td>\n",
       "    </tr>\n",
       "    <tr>\n",
       "      <th>1960-09-01</th>\n",
       "      <td>508</td>\n",
       "      <td>1960</td>\n",
       "    </tr>\n",
       "    <tr>\n",
       "      <th>1960-10-01</th>\n",
       "      <td>461</td>\n",
       "      <td>1960</td>\n",
       "    </tr>\n",
       "    <tr>\n",
       "      <th>1960-11-01</th>\n",
       "      <td>390</td>\n",
       "      <td>1960</td>\n",
       "    </tr>\n",
       "    <tr>\n",
       "      <th>1960-12-01</th>\n",
       "      <td>432</td>\n",
       "      <td>1960</td>\n",
       "    </tr>\n",
       "  </tbody>\n",
       "</table>\n",
       "<p>144 rows × 2 columns</p>\n",
       "</div>"
      ],
      "text/plain": [
       "            #Passengers  year\n",
       "Month                        \n",
       "1949-01-01          112  1949\n",
       "1949-02-01          118  1949\n",
       "1949-03-01          132  1949\n",
       "1949-04-01          129  1949\n",
       "1949-05-01          121  1949\n",
       "...                 ...   ...\n",
       "1960-08-01          606  1960\n",
       "1960-09-01          508  1960\n",
       "1960-10-01          461  1960\n",
       "1960-11-01          390  1960\n",
       "1960-12-01          432  1960\n",
       "\n",
       "[144 rows x 2 columns]"
      ]
     },
     "execution_count": 10,
     "metadata": {},
     "output_type": "execute_result"
    }
   ],
   "source": [
    "df[\"year\"]=[d.year for d in df.index]\n",
    "df"
   ]
  },
  {
   "cell_type": "code",
   "execution_count": 11,
   "id": "3021b4f0",
   "metadata": {
    "execution": {
     "iopub.execute_input": "2021-08-11T06:53:23.846429Z",
     "iopub.status.busy": "2021-08-11T06:53:23.845384Z",
     "iopub.status.idle": "2021-08-11T06:53:23.850000Z",
     "shell.execute_reply": "2021-08-11T06:53:23.849467Z",
     "shell.execute_reply.started": "2021-08-06T15:03:24.967508Z"
    },
    "papermill": {
     "duration": 0.054732,
     "end_time": "2021-08-11T06:53:23.850135",
     "exception": false,
     "start_time": "2021-08-11T06:53:23.795403",
     "status": "completed"
    },
    "tags": []
   },
   "outputs": [
    {
     "data": {
      "text/html": [
       "<div>\n",
       "<style scoped>\n",
       "    .dataframe tbody tr th:only-of-type {\n",
       "        vertical-align: middle;\n",
       "    }\n",
       "\n",
       "    .dataframe tbody tr th {\n",
       "        vertical-align: top;\n",
       "    }\n",
       "\n",
       "    .dataframe thead th {\n",
       "        text-align: right;\n",
       "    }\n",
       "</style>\n",
       "<table border=\"1\" class=\"dataframe\">\n",
       "  <thead>\n",
       "    <tr style=\"text-align: right;\">\n",
       "      <th></th>\n",
       "      <th>#Passengers</th>\n",
       "      <th>year</th>\n",
       "      <th>month</th>\n",
       "    </tr>\n",
       "    <tr>\n",
       "      <th>Month</th>\n",
       "      <th></th>\n",
       "      <th></th>\n",
       "      <th></th>\n",
       "    </tr>\n",
       "  </thead>\n",
       "  <tbody>\n",
       "    <tr>\n",
       "      <th>1949-01-01</th>\n",
       "      <td>112</td>\n",
       "      <td>1949</td>\n",
       "      <td>Jan</td>\n",
       "    </tr>\n",
       "    <tr>\n",
       "      <th>1949-02-01</th>\n",
       "      <td>118</td>\n",
       "      <td>1949</td>\n",
       "      <td>Feb</td>\n",
       "    </tr>\n",
       "    <tr>\n",
       "      <th>1949-03-01</th>\n",
       "      <td>132</td>\n",
       "      <td>1949</td>\n",
       "      <td>Mar</td>\n",
       "    </tr>\n",
       "    <tr>\n",
       "      <th>1949-04-01</th>\n",
       "      <td>129</td>\n",
       "      <td>1949</td>\n",
       "      <td>Apr</td>\n",
       "    </tr>\n",
       "    <tr>\n",
       "      <th>1949-05-01</th>\n",
       "      <td>121</td>\n",
       "      <td>1949</td>\n",
       "      <td>May</td>\n",
       "    </tr>\n",
       "    <tr>\n",
       "      <th>...</th>\n",
       "      <td>...</td>\n",
       "      <td>...</td>\n",
       "      <td>...</td>\n",
       "    </tr>\n",
       "    <tr>\n",
       "      <th>1960-08-01</th>\n",
       "      <td>606</td>\n",
       "      <td>1960</td>\n",
       "      <td>Aug</td>\n",
       "    </tr>\n",
       "    <tr>\n",
       "      <th>1960-09-01</th>\n",
       "      <td>508</td>\n",
       "      <td>1960</td>\n",
       "      <td>Sep</td>\n",
       "    </tr>\n",
       "    <tr>\n",
       "      <th>1960-10-01</th>\n",
       "      <td>461</td>\n",
       "      <td>1960</td>\n",
       "      <td>Oct</td>\n",
       "    </tr>\n",
       "    <tr>\n",
       "      <th>1960-11-01</th>\n",
       "      <td>390</td>\n",
       "      <td>1960</td>\n",
       "      <td>Nov</td>\n",
       "    </tr>\n",
       "    <tr>\n",
       "      <th>1960-12-01</th>\n",
       "      <td>432</td>\n",
       "      <td>1960</td>\n",
       "      <td>Dec</td>\n",
       "    </tr>\n",
       "  </tbody>\n",
       "</table>\n",
       "<p>144 rows × 3 columns</p>\n",
       "</div>"
      ],
      "text/plain": [
       "            #Passengers  year month\n",
       "Month                              \n",
       "1949-01-01          112  1949   Jan\n",
       "1949-02-01          118  1949   Feb\n",
       "1949-03-01          132  1949   Mar\n",
       "1949-04-01          129  1949   Apr\n",
       "1949-05-01          121  1949   May\n",
       "...                 ...   ...   ...\n",
       "1960-08-01          606  1960   Aug\n",
       "1960-09-01          508  1960   Sep\n",
       "1960-10-01          461  1960   Oct\n",
       "1960-11-01          390  1960   Nov\n",
       "1960-12-01          432  1960   Dec\n",
       "\n",
       "[144 rows x 3 columns]"
      ]
     },
     "execution_count": 11,
     "metadata": {},
     "output_type": "execute_result"
    }
   ],
   "source": [
    "df[\"month\"]=[d.strftime('%b') for d in df.index]\n",
    "df"
   ]
  },
  {
   "cell_type": "code",
   "execution_count": 12,
   "id": "5c4d4d66",
   "metadata": {
    "execution": {
     "iopub.execute_input": "2021-08-11T06:53:23.920524Z",
     "iopub.status.busy": "2021-08-11T06:53:23.919918Z",
     "iopub.status.idle": "2021-08-11T06:53:23.926879Z",
     "shell.execute_reply": "2021-08-11T06:53:23.927362Z",
     "shell.execute_reply.started": "2021-08-06T15:03:25.768277Z"
    },
    "papermill": {
     "duration": 0.043439,
     "end_time": "2021-08-11T06:53:23.927525",
     "exception": false,
     "start_time": "2021-08-11T06:53:23.884086",
     "status": "completed"
    },
    "tags": []
   },
   "outputs": [
    {
     "data": {
      "text/plain": [
       "array([1949, 1950, 1951, 1952, 1953, 1954, 1955, 1956, 1957, 1958, 1959,\n",
       "       1960])"
      ]
     },
     "execution_count": 12,
     "metadata": {},
     "output_type": "execute_result"
    }
   ],
   "source": [
    "years=df['year'].unique()\n",
    "years"
   ]
  },
  {
   "cell_type": "code",
   "execution_count": 13,
   "id": "9052b9e1",
   "metadata": {
    "execution": {
     "iopub.execute_input": "2021-08-11T06:53:23.998171Z",
     "iopub.status.busy": "2021-08-11T06:53:23.997543Z",
     "iopub.status.idle": "2021-08-11T06:53:24.355053Z",
     "shell.execute_reply": "2021-08-11T06:53:24.354378Z",
     "shell.execute_reply.started": "2021-08-06T15:03:26.544132Z"
    },
    "papermill": {
     "duration": 0.393859,
     "end_time": "2021-08-11T06:53:24.355190",
     "exception": false,
     "start_time": "2021-08-11T06:53:23.961331",
     "status": "completed"
    },
    "tags": []
   },
   "outputs": [
    {
     "data": {
      "text/plain": [
       "<AxesSubplot:xlabel='year', ylabel='#Passengers'>"
      ]
     },
     "execution_count": 13,
     "metadata": {},
     "output_type": "execute_result"
    },
    {
     "data": {
      "image/png": "[encoded data removed]",
      "text/plain": [
       "<Figure size 432x288 with 1 Axes>"
      ]
     },
     "metadata": {
      "needs_background": "light"
     },
     "output_type": "display_data"
    }
   ],
   "source": [
    "sns.boxplot(x='year',y='#Passengers',data=df)"
   ]
  },
  {
   "cell_type": "code",
   "execution_count": 14,
   "id": "14c7aa4c",
   "metadata": {
    "execution": {
     "iopub.execute_input": "2021-08-11T06:53:24.461015Z",
     "iopub.status.busy": "2021-08-11T06:53:24.458673Z",
     "iopub.status.idle": "2021-08-11T06:53:24.890507Z",
     "shell.execute_reply": "2021-08-11T06:53:24.889878Z",
     "shell.execute_reply.started": "2021-08-06T15:03:27.519918Z"
    },
    "papermill": {
     "duration": 0.50043,
     "end_time": "2021-08-11T06:53:24.890659",
     "exception": false,
     "start_time": "2021-08-11T06:53:24.390229",
     "status": "completed"
    },
    "tags": []
   },
   "outputs": [
    {
     "data": {
      "text/plain": [
       "<AxesSubplot:xlabel='month', ylabel='#Passengers'>"
      ]
     },
     "execution_count": 14,
     "metadata": {},
     "output_type": "execute_result"
    },
    {
     "data": {
      "image/png": "[encoded data removed]",
      "text/plain": [
       "<Figure size 432x288 with 1 Axes>"
      ]
     },
     "metadata": {
      "needs_background": "light"
     },
     "output_type": "display_data"
    }
   ],
   "source": [
    "sns.boxplot(x='month',y='#Passengers',data=df)"
   ]
  },
  {
   "cell_type": "code",
   "execution_count": 15,
   "id": "81e0d7c2",
   "metadata": {
    "execution": {
     "iopub.execute_input": "2021-08-11T06:53:24.968215Z",
     "iopub.status.busy": "2021-08-11T06:53:24.967570Z",
     "iopub.status.idle": "2021-08-11T06:53:24.995720Z",
     "shell.execute_reply": "2021-08-11T06:53:24.995147Z",
     "shell.execute_reply.started": "2021-08-06T15:03:28.846891Z"
    },
    "papermill": {
     "duration": 0.067501,
     "end_time": "2021-08-11T06:53:24.995874",
     "exception": false,
     "start_time": "2021-08-11T06:53:24.928373",
     "status": "completed"
    },
    "tags": []
   },
   "outputs": [],
   "source": [
    "from statsmodels.tsa.seasonal import seasonal_decompose\n",
    "decomposed=seasonal_decompose(df[\"#Passengers\"],\n",
    "                             model='additive'\n",
    "                             )"
   ]
  },
  {
   "cell_type": "code",
   "execution_count": 16,
   "id": "bb35b9fc",
   "metadata": {
    "execution": {
     "iopub.execute_input": "2021-08-11T06:53:25.072598Z",
     "iopub.status.busy": "2021-08-11T06:53:25.071999Z",
     "iopub.status.idle": "2021-08-11T06:53:25.076540Z",
     "shell.execute_reply": "2021-08-11T06:53:25.076057Z",
     "shell.execute_reply.started": "2021-08-06T15:03:32.413732Z"
    },
    "papermill": {
     "duration": 0.044262,
     "end_time": "2021-08-11T06:53:25.076671",
     "exception": false,
     "start_time": "2021-08-11T06:53:25.032409",
     "status": "completed"
    },
    "tags": []
   },
   "outputs": [],
   "source": [
    "trend=decomposed.trend\n",
    "sesonal=decomposed.seasonal\n",
    "residual=decomposed.resid"
   ]
  },
  {
   "cell_type": "code",
   "execution_count": 17,
   "id": "501df0f7",
   "metadata": {
    "execution": {
     "iopub.execute_input": "2021-08-11T06:53:25.156955Z",
     "iopub.status.busy": "2021-08-11T06:53:25.156098Z",
     "iopub.status.idle": "2021-08-11T06:53:25.159462Z",
     "shell.execute_reply": "2021-08-11T06:53:25.160005Z",
     "shell.execute_reply.started": "2021-08-06T15:03:33.556288Z"
    },
    "papermill": {
     "duration": 0.047355,
     "end_time": "2021-08-11T06:53:25.160164",
     "exception": false,
     "start_time": "2021-08-11T06:53:25.112809",
     "status": "completed"
    },
    "tags": []
   },
   "outputs": [
    {
     "data": {
      "text/plain": [
       "Month\n",
       "1949-01-01   NaN\n",
       "1949-02-01   NaN\n",
       "1949-03-01   NaN\n",
       "1949-04-01   NaN\n",
       "1949-05-01   NaN\n",
       "              ..\n",
       "1960-08-01   NaN\n",
       "1960-09-01   NaN\n",
       "1960-10-01   NaN\n",
       "1960-11-01   NaN\n",
       "1960-12-01   NaN\n",
       "Name: trend, Length: 144, dtype: float64"
      ]
     },
     "execution_count": 17,
     "metadata": {},
     "output_type": "execute_result"
    }
   ],
   "source": [
    "trend"
   ]
  },
  {
   "cell_type": "code",
   "execution_count": 18,
   "id": "f7bcd718",
   "metadata": {
    "execution": {
     "iopub.execute_input": "2021-08-11T06:53:25.236440Z",
     "iopub.status.busy": "2021-08-11T06:53:25.235520Z",
     "iopub.status.idle": "2021-08-11T06:53:25.243688Z",
     "shell.execute_reply": "2021-08-11T06:53:25.243128Z",
     "shell.execute_reply.started": "2021-08-06T15:03:34.225075Z"
    },
    "papermill": {
     "duration": 0.047342,
     "end_time": "2021-08-11T06:53:25.243822",
     "exception": false,
     "start_time": "2021-08-11T06:53:25.196480",
     "status": "completed"
    },
    "tags": []
   },
   "outputs": [
    {
     "data": {
      "text/plain": [
       "Month\n",
       "1949-01-01   -24.748737\n",
       "1949-02-01   -36.188131\n",
       "1949-03-01    -2.241162\n",
       "1949-04-01    -8.036616\n",
       "1949-05-01    -4.506313\n",
       "                ...    \n",
       "1960-08-01    62.823232\n",
       "1960-09-01    16.520202\n",
       "1960-10-01   -20.642677\n",
       "1960-11-01   -53.593434\n",
       "1960-12-01   -28.619949\n",
       "Name: seasonal, Length: 144, dtype: float64"
      ]
     },
     "execution_count": 18,
     "metadata": {},
     "output_type": "execute_result"
    }
   ],
   "source": [
    "sesonal"
   ]
  },
  {
   "cell_type": "code",
   "execution_count": 19,
   "id": "df47c074",
   "metadata": {
    "execution": {
     "iopub.execute_input": "2021-08-11T06:53:25.324496Z",
     "iopub.status.busy": "2021-08-11T06:53:25.323629Z",
     "iopub.status.idle": "2021-08-11T06:53:25.326990Z",
     "shell.execute_reply": "2021-08-11T06:53:25.327564Z",
     "shell.execute_reply.started": "2021-08-06T15:03:35.393173Z"
    },
    "papermill": {
     "duration": 0.047223,
     "end_time": "2021-08-11T06:53:25.327724",
     "exception": false,
     "start_time": "2021-08-11T06:53:25.280501",
     "status": "completed"
    },
    "tags": []
   },
   "outputs": [
    {
     "data": {
      "text/plain": [
       "Month\n",
       "1949-01-01   NaN\n",
       "1949-02-01   NaN\n",
       "1949-03-01   NaN\n",
       "1949-04-01   NaN\n",
       "1949-05-01   NaN\n",
       "              ..\n",
       "1960-08-01   NaN\n",
       "1960-09-01   NaN\n",
       "1960-10-01   NaN\n",
       "1960-11-01   NaN\n",
       "1960-12-01   NaN\n",
       "Name: resid, Length: 144, dtype: float64"
      ]
     },
     "execution_count": 19,
     "metadata": {},
     "output_type": "execute_result"
    }
   ],
   "source": [
    "residual"
   ]
  },
  {
   "cell_type": "code",
   "execution_count": 20,
   "id": "cc56128a",
   "metadata": {
    "execution": {
     "iopub.execute_input": "2021-08-11T06:53:25.407019Z",
     "iopub.status.busy": "2021-08-11T06:53:25.406056Z",
     "iopub.status.idle": "2021-08-11T06:53:25.905896Z",
     "shell.execute_reply": "2021-08-11T06:53:25.905386Z",
     "shell.execute_reply.started": "2021-08-06T15:03:36.31571Z"
    },
    "papermill": {
     "duration": 0.54089,
     "end_time": "2021-08-11T06:53:25.906048",
     "exception": false,
     "start_time": "2021-08-11T06:53:25.365158",
     "status": "completed"
    },
    "tags": []
   },
   "outputs": [
    {
     "data": {
      "image/png": "[encoded data removed]",
      "text/plain": [
       "<Figure size 864x576 with 4 Axes>"
      ]
     },
     "metadata": {
      "needs_background": "light"
     },
     "output_type": "display_data"
    }
   ],
   "source": [
    "plt.figure(figsize=(12,8))\n",
    "plt.subplot(411)\n",
    "plt.plot(df[\"#Passengers\"],label=\"Orginal\",color='red')\n",
    "plt.legend(loc='upper left')\n",
    "plt.subplot(412)\n",
    "plt.plot(trend,label=\"Trend\",color='red')\n",
    "plt.legend(loc='upper left')\n",
    "plt.subplot(413)\n",
    "plt.plot(sesonal,label=\"Sesonal\",color='red')\n",
    "plt.legend(loc='upper left')\n",
    "plt.subplot(414)\n",
    "plt.plot(residual,label=\"Residual\",color='red')\n",
    "plt.legend(loc='upper left')\n",
    "plt.show()"
   ]
  },
  {
   "cell_type": "code",
   "execution_count": 21,
   "id": "7ce6d702",
   "metadata": {
    "execution": {
     "iopub.execute_input": "2021-08-11T06:53:25.990700Z",
     "iopub.status.busy": "2021-08-11T06:53:25.989993Z",
     "iopub.status.idle": "2021-08-11T06:53:35.681135Z",
     "shell.execute_reply": "2021-08-11T06:53:35.679987Z",
     "shell.execute_reply.started": "2021-08-06T15:04:07.235565Z"
    },
    "papermill": {
     "duration": 9.7355,
     "end_time": "2021-08-11T06:53:35.681304",
     "exception": false,
     "start_time": "2021-08-11T06:53:25.945804",
     "status": "completed"
    },
    "tags": []
   },
   "outputs": [
    {
     "name": "stdout",
     "output_type": "stream",
     "text": [
      "Collecting pmdarima\r\n",
      "  Downloading pmdarima-1.8.2-cp37-cp37m-manylinux1_x86_64.whl (1.5 MB)\r\n",
      "\u001b[K     |████████████████████████████████| 1.5 MB 5.1 MB/s \r\n",
      "\u001b[?25hRequirement already satisfied: Cython!=0.29.18,>=0.29 in /opt/conda/lib/python3.7/site-packages (from pmdarima) (0.29.23)\r\n",
      "Requirement already satisfied: pandas>=0.19 in /opt/conda/lib/python3.7/site-packages (from pmdarima) (1.2.4)\r\n",
      "Requirement already satisfied: numpy~=1.19.0 in /opt/conda/lib/python3.7/site-packages (from pmdarima) (1.19.5)\r\n",
      "Requirement already satisfied: scipy>=1.3.2 in /opt/conda/lib/python3.7/site-packages (from pmdarima) (1.6.3)\r\n",
      "Requirement already satisfied: setuptools!=50.0.0,>=38.6.0 in /opt/conda/lib/python3.7/site-packages (from pmdarima) (49.6.0.post20210108)\r\n",
      "Requirement already satisfied: urllib3 in /opt/conda/lib/python3.7/site-packages (from pmdarima) (1.26.5)\r\n",
      "Requirement already satisfied: statsmodels!=0.12.0,>=0.11 in /opt/conda/lib/python3.7/site-packages (from pmdarima) (0.12.2)\r\n",
      "Requirement already satisfied: scikit-learn>=0.22 in /opt/conda/lib/python3.7/site-packages (from pmdarima) (0.23.2)\r\n",
      "Requirement already satisfied: joblib>=0.11 in /opt/conda/lib/python3.7/site-packages (from pmdarima) (1.0.1)\r\n",
      "Requirement already satisfied: python-dateutil>=2.7.3 in /opt/conda/lib/python3.7/site-packages (from pandas>=0.19->pmdarima) (2.8.1)\r\n",
      "Requirement already satisfied: pytz>=2017.3 in /opt/conda/lib/python3.7/site-packages (from pandas>=0.19->pmdarima) (2021.1)\r\n",
      "Requirement already satisfied: six>=1.5 in /opt/conda/lib/python3.7/site-packages (from python-dateutil>=2.7.3->pandas>=0.19->pmdarima) (1.15.0)\r\n",
      "Requirement already satisfied: threadpoolctl>=2.0.0 in /opt/conda/lib/python3.7/site-packages (from scikit-learn>=0.22->pmdarima) (2.1.0)\r\n",
      "Requirement already satisfied: patsy>=0.5 in /opt/conda/lib/python3.7/site-packages (from statsmodels!=0.12.0,>=0.11->pmdarima) (0.5.1)\r\n",
      "Installing collected packages: pmdarima\r\n",
      "Successfully installed pmdarima-1.8.2\r\n",
      "\u001b[33mWARNING: Running pip as root will break packages and permissions. You should install packages reliably by using venv: https://pip.pypa.io/warnings/venv\u001b[0m\r\n"
     ]
    }
   ],
   "source": [
    "!pip install pmdarima\n",
    "from pmdarima.arima import auto_arima"
   ]
  },
  {
   "cell_type": "code",
   "execution_count": 22,
   "id": "5cf4a182",
   "metadata": {
    "execution": {
     "iopub.execute_input": "2021-08-11T06:53:35.776235Z",
     "iopub.status.busy": "2021-08-11T06:53:35.775189Z",
     "iopub.status.idle": "2021-08-11T06:53:49.336647Z",
     "shell.execute_reply": "2021-08-11T06:53:49.337117Z",
     "shell.execute_reply.started": "2021-08-06T15:04:35.486764Z"
    },
    "papermill": {
     "duration": 13.612622,
     "end_time": "2021-08-11T06:53:49.337291",
     "exception": false,
     "start_time": "2021-08-11T06:53:35.724669",
     "status": "completed"
    },
    "tags": []
   },
   "outputs": [
    {
     "name": "stdout",
     "output_type": "stream",
     "text": [
      "Performing stepwise search to minimize aic\n",
      " ARIMA(1,1,1)(0,1,0)[12]             : AIC=1022.393, Time=0.26 sec\n",
      " ARIMA(0,1,0)(0,1,0)[12]             : AIC=1031.508, Time=0.02 sec\n",
      " ARIMA(1,1,0)(1,1,0)[12]             : AIC=1020.393, Time=0.10 sec\n",
      " ARIMA(0,1,1)(0,1,1)[12]             : AIC=1021.003, Time=0.11 sec\n",
      " ARIMA(1,1,0)(0,1,0)[12]             : AIC=1020.393, Time=0.04 sec\n",
      " ARIMA(1,1,0)(2,1,0)[12]             : AIC=1019.239, Time=0.24 sec\n",
      " ARIMA(1,1,0)(3,1,0)[12]             : AIC=1020.582, Time=0.49 sec\n",
      " ARIMA(1,1,0)(2,1,1)[12]             : AIC=inf, Time=1.41 sec\n",
      " ARIMA(1,1,0)(1,1,1)[12]             : AIC=1020.493, Time=0.24 sec\n",
      " ARIMA(1,1,0)(3,1,1)[12]             : AIC=inf, Time=2.97 sec\n",
      " ARIMA(0,1,0)(2,1,0)[12]             : AIC=1032.120, Time=0.15 sec\n",
      " ARIMA(2,1,0)(2,1,0)[12]             : AIC=1021.120, Time=0.29 sec\n",
      " ARIMA(1,1,1)(2,1,0)[12]             : AIC=1021.032, Time=0.41 sec\n",
      " ARIMA(0,1,1)(2,1,0)[12]             : AIC=1019.178, Time=0.24 sec\n",
      " ARIMA(0,1,1)(1,1,0)[12]             : AIC=1020.425, Time=0.09 sec\n",
      " ARIMA(0,1,1)(3,1,0)[12]             : AIC=1020.372, Time=0.47 sec\n",
      " ARIMA(0,1,1)(2,1,1)[12]             : AIC=inf, Time=1.23 sec\n",
      " ARIMA(0,1,1)(1,1,1)[12]             : AIC=1020.327, Time=0.29 sec\n",
      " ARIMA(0,1,1)(3,1,1)[12]             : AIC=inf, Time=3.27 sec\n",
      " ARIMA(0,1,2)(2,1,0)[12]             : AIC=1021.148, Time=0.26 sec\n",
      " ARIMA(1,1,2)(2,1,0)[12]             : AIC=1022.805, Time=0.50 sec\n",
      " ARIMA(0,1,1)(2,1,0)[12] intercept   : AIC=1021.017, Time=0.45 sec\n",
      "\n",
      "Best model:  ARIMA(0,1,1)(2,1,0)[12]          \n",
      "Total fit time: 13.549 seconds\n"
     ]
    }
   ],
   "source": [
    "arima_model=auto_arima(df[\"#Passengers\"],start_p=1,d=1,start_q=1,\n",
    "                      max_p=5,max_q=5,max_d=5,m=12,\n",
    "                        start_P=0,D=1,start_Q=0,max_P=5,max_D=5,max_Q=5,\n",
    "                      seasonal=True,\n",
    "                       trace=True,\n",
    "                      error_action=\"ignore\",\n",
    "                      suppress_warnings=True,\n",
    "                      stepwise=True,n_fits=50)"
   ]
  },
  {
   "cell_type": "code",
   "execution_count": 23,
   "id": "ea17470f",
   "metadata": {
    "execution": {
     "iopub.execute_input": "2021-08-11T06:53:49.435727Z",
     "iopub.status.busy": "2021-08-11T06:53:49.434769Z",
     "iopub.status.idle": "2021-08-11T06:53:49.452539Z",
     "shell.execute_reply": "2021-08-11T06:53:49.451917Z",
     "shell.execute_reply.started": "2021-08-06T15:04:56.173016Z"
    },
    "papermill": {
     "duration": 0.068091,
     "end_time": "2021-08-11T06:53:49.452676",
     "exception": false,
     "start_time": "2021-08-11T06:53:49.384585",
     "status": "completed"
    },
    "tags": []
   },
   "outputs": [
    {
     "data": {
      "text/html": [
       "<table class=\"simpletable\">\n",
       "<caption>SARIMAX Results</caption>\n",
       "<tr>\n",
       "  <th>Dep. Variable:</th>                  <td>y</td>                <th>  No. Observations:  </th>    <td>144</td>  \n",
       "</tr>\n",
       "<tr>\n",
       "  <th>Model:</th>           <td>SARIMAX(0, 1, 1)x(2, 1, [], 12)</td> <th>  Log Likelihood     </th> <td>-505.589</td>\n",
       "</tr>\n",
       "<tr>\n",
       "  <th>Date:</th>                   <td>Wed, 11 Aug 2021</td>         <th>  AIC                </th> <td>1019.178</td>\n",
       "</tr>\n",
       "<tr>\n",
       "  <th>Time:</th>                       <td>06:53:49</td>             <th>  BIC                </th> <td>1030.679</td>\n",
       "</tr>\n",
       "<tr>\n",
       "  <th>Sample:</th>                         <td>0</td>                <th>  HQIC               </th> <td>1023.851</td>\n",
       "</tr>\n",
       "<tr>\n",
       "  <th></th>                             <td> - 144</td>              <th>                     </th>     <td> </td>   \n",
       "</tr>\n",
       "<tr>\n",
       "  <th>Covariance Type:</th>               <td>opg</td>               <th>                     </th>     <td> </td>   \n",
       "</tr>\n",
       "</table>\n",
       "<table class=\"simpletable\">\n",
       "<tr>\n",
       "      <td></td>        <th>coef</th>     <th>std err</th>      <th>z</th>      <th>P>|z|</th>  <th>[0.025</th>    <th>0.975]</th>  \n",
       "</tr>\n",
       "<tr>\n",
       "  <th>ma.L1</th>    <td>   -0.3634</td> <td>    0.074</td> <td>   -4.945</td> <td> 0.000</td> <td>   -0.508</td> <td>   -0.219</td>\n",
       "</tr>\n",
       "<tr>\n",
       "  <th>ar.S.L12</th> <td>   -0.1239</td> <td>    0.090</td> <td>   -1.372</td> <td> 0.170</td> <td>   -0.301</td> <td>    0.053</td>\n",
       "</tr>\n",
       "<tr>\n",
       "  <th>ar.S.L24</th> <td>    0.1911</td> <td>    0.107</td> <td>    1.783</td> <td> 0.075</td> <td>   -0.019</td> <td>    0.401</td>\n",
       "</tr>\n",
       "<tr>\n",
       "  <th>sigma2</th>   <td>  130.4480</td> <td>   15.527</td> <td>    8.402</td> <td> 0.000</td> <td>  100.016</td> <td>  160.880</td>\n",
       "</tr>\n",
       "</table>\n",
       "<table class=\"simpletable\">\n",
       "<tr>\n",
       "  <th>Ljung-Box (L1) (Q):</th>     <td>0.01</td> <th>  Jarque-Bera (JB):  </th> <td>4.59</td>\n",
       "</tr>\n",
       "<tr>\n",
       "  <th>Prob(Q):</th>                <td>0.92</td> <th>  Prob(JB):          </th> <td>0.10</td>\n",
       "</tr>\n",
       "<tr>\n",
       "  <th>Heteroskedasticity (H):</th> <td>2.70</td> <th>  Skew:              </th> <td>0.15</td>\n",
       "</tr>\n",
       "<tr>\n",
       "  <th>Prob(H) (two-sided):</th>    <td>0.00</td> <th>  Kurtosis:          </th> <td>3.87</td>\n",
       "</tr>\n",
       "</table><br/><br/>Warnings:<br/>[1] Covariance matrix calculated using the outer product of gradients (complex-step)."
      ],
      "text/plain": [
       "<class 'statsmodels.iolib.summary.Summary'>\n",
       "\"\"\"\n",
       "                                      SARIMAX Results                                      \n",
       "===========================================================================================\n",
       "Dep. Variable:                                   y   No. Observations:                  144\n",
       "Model:             SARIMAX(0, 1, 1)x(2, 1, [], 12)   Log Likelihood                -505.589\n",
       "Date:                             Wed, 11 Aug 2021   AIC                           1019.178\n",
       "Time:                                     06:53:49   BIC                           1030.679\n",
       "Sample:                                          0   HQIC                          1023.851\n",
       "                                             - 144                                         \n",
       "Covariance Type:                               opg                                         \n",
       "==============================================================================\n",
       "                 coef    std err          z      P>|z|      [0.025      0.975]\n",
       "------------------------------------------------------------------------------\n",
       "ma.L1         -0.3634      0.074     -4.945      0.000      -0.508      -0.219\n",
       "ar.S.L12      -0.1239      0.090     -1.372      0.170      -0.301       0.053\n",
       "ar.S.L24       0.1911      0.107      1.783      0.075      -0.019       0.401\n",
       "sigma2       130.4480     15.527      8.402      0.000     100.016     160.880\n",
       "===================================================================================\n",
       "Ljung-Box (L1) (Q):                   0.01   Jarque-Bera (JB):                 4.59\n",
       "Prob(Q):                              0.92   Prob(JB):                         0.10\n",
       "Heteroskedasticity (H):               2.70   Skew:                             0.15\n",
       "Prob(H) (two-sided):                  0.00   Kurtosis:                         3.87\n",
       "===================================================================================\n",
       "\n",
       "Warnings:\n",
       "[1] Covariance matrix calculated using the outer product of gradients (complex-step).\n",
       "\"\"\""
      ]
     },
     "execution_count": 23,
     "metadata": {},
     "output_type": "execute_result"
    }
   ],
   "source": [
    "arima_model.summary()"
   ]
  },
  {
   "cell_type": "code",
   "execution_count": 24,
   "id": "873428c3",
   "metadata": {
    "execution": {
     "iopub.execute_input": "2021-08-11T06:53:49.554761Z",
     "iopub.status.busy": "2021-08-11T06:53:49.554140Z",
     "iopub.status.idle": "2021-08-11T06:53:49.556282Z",
     "shell.execute_reply": "2021-08-11T06:53:49.556740Z",
     "shell.execute_reply.started": "2021-08-06T15:04:59.173086Z"
    },
    "papermill": {
     "duration": 0.056214,
     "end_time": "2021-08-11T06:53:49.556926",
     "exception": false,
     "start_time": "2021-08-11T06:53:49.500712",
     "status": "completed"
    },
    "tags": []
   },
   "outputs": [],
   "source": [
    "size=int(len(df)*0.66)\n",
    "X_train,X_test=df[0:size],df[size:len(df)]"
   ]
  },
  {
   "cell_type": "code",
   "execution_count": 25,
   "id": "d942c43a",
   "metadata": {
    "execution": {
     "iopub.execute_input": "2021-08-11T06:53:49.656324Z",
     "iopub.status.busy": "2021-08-11T06:53:49.655618Z",
     "iopub.status.idle": "2021-08-11T06:53:49.660213Z",
     "shell.execute_reply": "2021-08-11T06:53:49.660710Z",
     "shell.execute_reply.started": "2021-08-06T15:05:00.269369Z"
    },
    "papermill": {
     "duration": 0.056,
     "end_time": "2021-08-11T06:53:49.660892",
     "exception": false,
     "start_time": "2021-08-11T06:53:49.604892",
     "status": "completed"
    },
    "tags": []
   },
   "outputs": [
    {
     "data": {
      "text/plain": [
       "(95, 3)"
      ]
     },
     "execution_count": 25,
     "metadata": {},
     "output_type": "execute_result"
    }
   ],
   "source": [
    "X_train.shape"
   ]
  },
  {
   "cell_type": "code",
   "execution_count": 26,
   "id": "f61d92af",
   "metadata": {
    "execution": {
     "iopub.execute_input": "2021-08-11T06:53:49.763366Z",
     "iopub.status.busy": "2021-08-11T06:53:49.762648Z",
     "iopub.status.idle": "2021-08-11T06:53:49.766371Z",
     "shell.execute_reply": "2021-08-11T06:53:49.766791Z",
     "shell.execute_reply.started": "2021-08-06T15:05:01.049377Z"
    },
    "papermill": {
     "duration": 0.057803,
     "end_time": "2021-08-11T06:53:49.766983",
     "exception": false,
     "start_time": "2021-08-11T06:53:49.709180",
     "status": "completed"
    },
    "tags": []
   },
   "outputs": [
    {
     "data": {
      "text/plain": [
       "(49, 3)"
      ]
     },
     "execution_count": 26,
     "metadata": {},
     "output_type": "execute_result"
    }
   ],
   "source": [
    "X_test.shape"
   ]
  },
  {
   "cell_type": "code",
   "execution_count": 27,
   "id": "fdb5d42e",
   "metadata": {
    "execution": {
     "iopub.execute_input": "2021-08-11T06:53:49.866644Z",
     "iopub.status.busy": "2021-08-11T06:53:49.866043Z",
     "iopub.status.idle": "2021-08-11T06:53:49.869416Z",
     "shell.execute_reply": "2021-08-11T06:53:49.869836Z",
     "shell.execute_reply.started": "2021-08-06T15:05:01.463845Z"
    },
    "papermill": {
     "duration": 0.054505,
     "end_time": "2021-08-11T06:53:49.870018",
     "exception": false,
     "start_time": "2021-08-11T06:53:49.815513",
     "status": "completed"
    },
    "tags": []
   },
   "outputs": [],
   "source": [
    "from statsmodels.tsa.statespace.sarimax import SARIMAX"
   ]
  },
  {
   "cell_type": "code",
   "execution_count": 28,
   "id": "92eb4671",
   "metadata": {
    "execution": {
     "iopub.execute_input": "2021-08-11T06:53:49.970412Z",
     "iopub.status.busy": "2021-08-11T06:53:49.969754Z",
     "iopub.status.idle": "2021-08-11T06:53:51.032602Z",
     "shell.execute_reply": "2021-08-11T06:53:51.033098Z",
     "shell.execute_reply.started": "2021-08-06T15:05:02.051269Z"
    },
    "papermill": {
     "duration": 1.114476,
     "end_time": "2021-08-11T06:53:51.033282",
     "exception": false,
     "start_time": "2021-08-11T06:53:49.918806",
     "status": "completed"
    },
    "tags": []
   },
   "outputs": [
    {
     "name": "stderr",
     "output_type": "stream",
     "text": [
      "/opt/conda/lib/python3.7/site-packages/statsmodels/tsa/base/tsa_model.py:527: ValueWarning: No frequency information was provided, so inferred frequency MS will be used.\n",
      "  % freq, ValueWarning)\n",
      "/opt/conda/lib/python3.7/site-packages/statsmodels/tsa/base/tsa_model.py:527: ValueWarning: No frequency information was provided, so inferred frequency MS will be used.\n",
      "  % freq, ValueWarning)\n"
     ]
    },
    {
     "data": {
      "text/html": [
       "<table class=\"simpletable\">\n",
       "<caption>SARIMAX Results</caption>\n",
       "<tr>\n",
       "  <th>Dep. Variable:</th>             <td>#Passengers</td>          <th>  No. Observations:  </th>    <td>95</td>   \n",
       "</tr>\n",
       "<tr>\n",
       "  <th>Model:</th>           <td>SARIMAX(0, 1, 1)x(2, 1, 1, 12)</td> <th>  Log Likelihood     </th> <td>-300.269</td>\n",
       "</tr>\n",
       "<tr>\n",
       "  <th>Date:</th>                   <td>Wed, 11 Aug 2021</td>        <th>  AIC                </th>  <td>610.538</td>\n",
       "</tr>\n",
       "<tr>\n",
       "  <th>Time:</th>                       <td>06:53:51</td>            <th>  BIC                </th>  <td>622.571</td>\n",
       "</tr>\n",
       "<tr>\n",
       "  <th>Sample:</th>                    <td>01-01-1949</td>           <th>  HQIC               </th>  <td>615.369</td>\n",
       "</tr>\n",
       "<tr>\n",
       "  <th></th>                          <td>- 11-01-1956</td>          <th>                     </th>     <td> </td>   \n",
       "</tr>\n",
       "<tr>\n",
       "  <th>Covariance Type:</th>               <td>opg</td>              <th>                     </th>     <td> </td>   \n",
       "</tr>\n",
       "</table>\n",
       "<table class=\"simpletable\">\n",
       "<tr>\n",
       "      <td></td>        <th>coef</th>     <th>std err</th>      <th>z</th>      <th>P>|z|</th>  <th>[0.025</th>    <th>0.975]</th>  \n",
       "</tr>\n",
       "<tr>\n",
       "  <th>ma.L1</th>    <td>   -0.3211</td> <td>    0.102</td> <td>   -3.138</td> <td> 0.002</td> <td>   -0.522</td> <td>   -0.121</td>\n",
       "</tr>\n",
       "<tr>\n",
       "  <th>ar.S.L12</th> <td>    0.6858</td> <td>    0.640</td> <td>    1.072</td> <td> 0.284</td> <td>   -0.568</td> <td>    1.940</td>\n",
       "</tr>\n",
       "<tr>\n",
       "  <th>ar.S.L24</th> <td>    0.3130</td> <td>    0.140</td> <td>    2.240</td> <td> 0.025</td> <td>    0.039</td> <td>    0.587</td>\n",
       "</tr>\n",
       "<tr>\n",
       "  <th>ma.S.L12</th> <td>   -0.9809</td> <td>    5.705</td> <td>   -0.172</td> <td> 0.863</td> <td>  -12.163</td> <td>   10.201</td>\n",
       "</tr>\n",
       "<tr>\n",
       "  <th>sigma2</th>   <td>   78.6937</td> <td>  398.589</td> <td>    0.197</td> <td> 0.843</td> <td> -702.526</td> <td>  859.913</td>\n",
       "</tr>\n",
       "</table>\n",
       "<table class=\"simpletable\">\n",
       "<tr>\n",
       "  <th>Ljung-Box (L1) (Q):</th>     <td>0.01</td> <th>  Jarque-Bera (JB):  </th> <td>2.57</td>\n",
       "</tr>\n",
       "<tr>\n",
       "  <th>Prob(Q):</th>                <td>0.94</td> <th>  Prob(JB):          </th> <td>0.28</td>\n",
       "</tr>\n",
       "<tr>\n",
       "  <th>Heteroskedasticity (H):</th> <td>1.68</td> <th>  Skew:              </th> <td>0.43</td>\n",
       "</tr>\n",
       "<tr>\n",
       "  <th>Prob(H) (two-sided):</th>    <td>0.18</td> <th>  Kurtosis:          </th> <td>2.83</td>\n",
       "</tr>\n",
       "</table><br/><br/>Warnings:<br/>[1] Covariance matrix calculated using the outer product of gradients (complex-step)."
      ],
      "text/plain": [
       "<class 'statsmodels.iolib.summary.Summary'>\n",
       "\"\"\"\n",
       "                                     SARIMAX Results                                      \n",
       "==========================================================================================\n",
       "Dep. Variable:                        #Passengers   No. Observations:                   95\n",
       "Model:             SARIMAX(0, 1, 1)x(2, 1, 1, 12)   Log Likelihood                -300.269\n",
       "Date:                            Wed, 11 Aug 2021   AIC                            610.538\n",
       "Time:                                    06:53:51   BIC                            622.571\n",
       "Sample:                                01-01-1949   HQIC                           615.369\n",
       "                                     - 11-01-1956                                         \n",
       "Covariance Type:                              opg                                         \n",
       "==============================================================================\n",
       "                 coef    std err          z      P>|z|      [0.025      0.975]\n",
       "------------------------------------------------------------------------------\n",
       "ma.L1         -0.3211      0.102     -3.138      0.002      -0.522      -0.121\n",
       "ar.S.L12       0.6858      0.640      1.072      0.284      -0.568       1.940\n",
       "ar.S.L24       0.3130      0.140      2.240      0.025       0.039       0.587\n",
       "ma.S.L12      -0.9809      5.705     -0.172      0.863     -12.163      10.201\n",
       "sigma2        78.6937    398.589      0.197      0.843    -702.526     859.913\n",
       "===================================================================================\n",
       "Ljung-Box (L1) (Q):                   0.01   Jarque-Bera (JB):                 2.57\n",
       "Prob(Q):                              0.94   Prob(JB):                         0.28\n",
       "Heteroskedasticity (H):               1.68   Skew:                             0.43\n",
       "Prob(H) (two-sided):                  0.18   Kurtosis:                         2.83\n",
       "===================================================================================\n",
       "\n",
       "Warnings:\n",
       "[1] Covariance matrix calculated using the outer product of gradients (complex-step).\n",
       "\"\"\""
      ]
     },
     "execution_count": 28,
     "metadata": {},
     "output_type": "execute_result"
    }
   ],
   "source": [
    "model=SARIMAX(X_train[\"#Passengers\"],\n",
    "             order=(0,1,1),\n",
    "             seasonal_order=(2,1,1,12))\n",
    "result=model.fit()\n",
    "result.summary()"
   ]
  },
  {
   "cell_type": "code",
   "execution_count": 29,
   "id": "61437c04",
   "metadata": {
    "execution": {
     "iopub.execute_input": "2021-08-11T06:53:51.145587Z",
     "iopub.status.busy": "2021-08-11T06:53:51.144879Z",
     "iopub.status.idle": "2021-08-11T06:53:51.148246Z",
     "shell.execute_reply": "2021-08-11T06:53:51.148741Z",
     "shell.execute_reply.started": "2021-08-06T15:05:05.365166Z"
    },
    "papermill": {
     "duration": 0.065235,
     "end_time": "2021-08-11T06:53:51.148927",
     "exception": false,
     "start_time": "2021-08-11T06:53:51.083692",
     "status": "completed"
    },
    "tags": []
   },
   "outputs": [
    {
     "data": {
      "text/plain": [
       "1949-01-01      0.000000\n",
       "1949-02-01    111.998295\n",
       "1949-03-01    117.999817\n",
       "1949-04-01    131.999574\n",
       "1949-05-01    129.000091\n",
       "                 ...    \n",
       "1956-07-01    419.505255\n",
       "1956-08-01    398.689008\n",
       "1956-09-01    365.433259\n",
       "1956-10-01    320.695494\n",
       "1956-11-01    274.850008\n",
       "Freq: MS, Name: predicted_mean, Length: 95, dtype: float64"
      ]
     },
     "execution_count": 29,
     "metadata": {},
     "output_type": "execute_result"
    }
   ],
   "source": [
    "start_index=0\n",
    "end_index=len(X_train)-1\n",
    "train_predction=result.predict(start_index,end_index)\n",
    "train_predction"
   ]
  },
  {
   "cell_type": "code",
   "execution_count": 30,
   "id": "a77f7932",
   "metadata": {
    "execution": {
     "iopub.execute_input": "2021-08-11T06:53:51.253210Z",
     "iopub.status.busy": "2021-08-11T06:53:51.252190Z",
     "iopub.status.idle": "2021-08-11T06:53:51.272045Z",
     "shell.execute_reply": "2021-08-11T06:53:51.272553Z",
     "shell.execute_reply.started": "2021-08-06T15:05:07.329069Z"
    },
    "papermill": {
     "duration": 0.073686,
     "end_time": "2021-08-11T06:53:51.272723",
     "exception": false,
     "start_time": "2021-08-11T06:53:51.199037",
     "status": "completed"
    },
    "tags": []
   },
   "outputs": [
    {
     "data": {
      "text/plain": [
       "1956-12-01    311.123920\n",
       "1957-01-01    320.260571\n",
       "1957-02-01    310.955459\n",
       "1957-03-01    351.856413\n",
       "1957-04-01    349.871747\n",
       "1957-05-01    355.049024\n",
       "1957-06-01    411.853191\n",
       "1957-07-01    457.020313\n",
       "1957-08-01    445.033006\n",
       "1957-09-01    395.788200\n",
       "1957-10-01    347.079128\n",
       "1957-11-01    309.215126\n",
       "1957-12-01    352.306940\n",
       "1958-01-01    361.403421\n",
       "1958-02-01    351.143585\n",
       "1958-03-01    394.540556\n",
       "1958-04-01    392.059781\n",
       "1958-05-01    398.610742\n",
       "1958-06-01    459.409691\n",
       "1958-07-01    505.675770\n",
       "1958-08-01    493.771332\n",
       "1958-09-01    440.348997\n",
       "1958-10-01    388.396128\n",
       "1958-11-01    349.194132\n",
       "1958-12-01    394.047005\n",
       "1959-01-01    404.097798\n",
       "1959-02-01    392.461675\n",
       "1959-03-01    437.852367\n",
       "1959-04-01    435.662230\n",
       "1959-05-01    443.210717\n",
       "1959-06-01    507.000901\n",
       "1959-07-01    555.951096\n",
       "1959-08-01    542.855348\n",
       "1959-09-01    486.804580\n",
       "1959-10-01    432.718275\n",
       "1959-11-01    391.702207\n",
       "1959-12-01    438.691799\n",
       "1960-01-01    449.384457\n",
       "1960-02-01    436.505660\n",
       "1960-03-01    484.044913\n",
       "1960-04-01    481.898792\n",
       "1960-05-01    490.561354\n",
       "1960-06-01    557.653321\n",
       "1960-07-01    608.788211\n",
       "1960-08-01    594.901437\n",
       "1960-09-01    535.740481\n",
       "1960-10-01    479.175727\n",
       "1960-11-01    436.496790\n",
       "1960-12-01    485.502944\n",
       "Freq: MS, Name: predicted_mean, dtype: float64"
      ]
     },
     "execution_count": 30,
     "metadata": {},
     "output_type": "execute_result"
    }
   ],
   "source": [
    "st_index=len(X_train)\n",
    "ed_index=len(df)-1\n",
    "predction=result.predict(st_index,ed_index)\n",
    "predction"
   ]
  },
  {
   "cell_type": "code",
   "execution_count": 31,
   "id": "aba3c02a",
   "metadata": {
    "execution": {
     "iopub.execute_input": "2021-08-11T06:53:51.377017Z",
     "iopub.status.busy": "2021-08-11T06:53:51.376060Z",
     "iopub.status.idle": "2021-08-11T06:53:51.647780Z",
     "shell.execute_reply": "2021-08-11T06:53:51.647099Z",
     "shell.execute_reply.started": "2021-08-06T15:05:08.353233Z"
    },
    "papermill": {
     "duration": 0.324969,
     "end_time": "2021-08-11T06:53:51.647944",
     "exception": false,
     "start_time": "2021-08-11T06:53:51.322975",
     "status": "completed"
    },
    "tags": []
   },
   "outputs": [
    {
     "data": {
      "text/plain": [
       "<AxesSubplot:xlabel='Month'>"
      ]
     },
     "execution_count": 31,
     "metadata": {},
     "output_type": "execute_result"
    },
    {
     "data": {
      "image/png": "[encoded data removed]",
      "text/plain": [
       "<Figure size 432x288 with 1 Axes>"
      ]
     },
     "metadata": {
      "needs_background": "light"
     },
     "output_type": "display_data"
    }
   ],
   "source": [
    "predction.plot(legend=True)\n",
    "X_test[\"#Passengers\"].plot(legend=True)"
   ]
  },
  {
   "cell_type": "code",
   "execution_count": 32,
   "id": "873eff5a",
   "metadata": {
    "execution": {
     "iopub.execute_input": "2021-08-11T06:53:51.755534Z",
     "iopub.status.busy": "2021-08-11T06:53:51.754569Z",
     "iopub.status.idle": "2021-08-11T06:53:51.758310Z",
     "shell.execute_reply": "2021-08-11T06:53:51.758738Z",
     "shell.execute_reply.started": "2021-08-06T15:05:08.959705Z"
    },
    "papermill": {
     "duration": 0.059001,
     "end_time": "2021-08-11T06:53:51.758936",
     "exception": false,
     "start_time": "2021-08-11T06:53:51.699935",
     "status": "completed"
    },
    "tags": []
   },
   "outputs": [],
   "source": [
    "import math\n",
    "from sklearn.metrics import mean_squared_error"
   ]
  },
  {
   "cell_type": "code",
   "execution_count": 33,
   "id": "d0eef178",
   "metadata": {
    "execution": {
     "iopub.execute_input": "2021-08-11T06:53:51.866455Z",
     "iopub.status.busy": "2021-08-11T06:53:51.865455Z",
     "iopub.status.idle": "2021-08-11T06:53:51.873068Z",
     "shell.execute_reply": "2021-08-11T06:53:51.873547Z",
     "shell.execute_reply.started": "2021-08-06T15:05:10.233935Z"
    },
    "papermill": {
     "duration": 0.06293,
     "end_time": "2021-08-11T06:53:51.873707",
     "exception": false,
     "start_time": "2021-08-11T06:53:51.810777",
     "status": "completed"
    },
    "tags": []
   },
   "outputs": [
    {
     "data": {
      "text/plain": [
       "(16.14307180254846, 29.412911361856274)"
      ]
     },
     "execution_count": 33,
     "metadata": {},
     "output_type": "execute_result"
    }
   ],
   "source": [
    "trainScore=math.sqrt(mean_squared_error(X_train['#Passengers'],train_predction))\n",
    "testScore=math.sqrt(mean_squared_error(X_test[\"#Passengers\"],predction))\n",
    "trainScore,testScore"
   ]
  },
  {
   "cell_type": "code",
   "execution_count": 34,
   "id": "f8979ed9",
   "metadata": {
    "execution": {
     "iopub.execute_input": "2021-08-11T06:53:51.982353Z",
     "iopub.status.busy": "2021-08-11T06:53:51.981372Z",
     "iopub.status.idle": "2021-08-11T06:53:52.002003Z",
     "shell.execute_reply": "2021-08-11T06:53:52.002490Z",
     "shell.execute_reply.started": "2021-08-06T15:05:12.661325Z"
    },
    "papermill": {
     "duration": 0.076243,
     "end_time": "2021-08-11T06:53:52.002676",
     "exception": false,
     "start_time": "2021-08-11T06:53:51.926433",
     "status": "completed"
    },
    "tags": []
   },
   "outputs": [],
   "source": [
    "forcast=result.predict(start=len(df),\n",
    "                      end=(len(df)-1)+3*12,\n",
    "                      typ=\"levels\").rename('Forecust')"
   ]
  },
  {
   "cell_type": "code",
   "execution_count": 35,
   "id": "f0acf224",
   "metadata": {
    "execution": {
     "iopub.execute_input": "2021-08-11T06:53:52.111714Z",
     "iopub.status.busy": "2021-08-11T06:53:52.110769Z",
     "iopub.status.idle": "2021-08-11T06:53:52.351247Z",
     "shell.execute_reply": "2021-08-11T06:53:52.350668Z",
     "shell.execute_reply.started": "2021-08-06T15:05:13.698961Z"
    },
    "papermill": {
     "duration": 0.296319,
     "end_time": "2021-08-11T06:53:52.351388",
     "exception": false,
     "start_time": "2021-08-11T06:53:52.055069",
     "status": "completed"
    },
    "tags": []
   },
   "outputs": [
    {
     "data": {
      "text/plain": [
       "<matplotlib.legend.Legend at 0x7f894ac39b10>"
      ]
     },
     "execution_count": 35,
     "metadata": {},
     "output_type": "execute_result"
    },
    {
     "data": {
      "image/png": "[encoded data removed]",
      "text/plain": [
       "<Figure size 864x576 with 1 Axes>"
      ]
     },
     "metadata": {
      "needs_background": "light"
     },
     "output_type": "display_data"
    }
   ],
   "source": [
    "plt.figure(figsize=(12,8))\n",
    "plt.plot(X_train[\"#Passengers\"],label=\"Training\",color='green')\n",
    "plt.plot(X_test[\"#Passengers\"],label=\"Test\",color='blue')\n",
    "plt.plot(forcast,label=\"Forecast\",color=\"red\")\n",
    "plt.legend(loc=\"upper left\")\n"
   ]
  },
  {
   "cell_type": "code",
   "execution_count": null,
   "id": "46cb5b9f",
   "metadata": {
    "papermill": {
     "duration": 0.053727,
     "end_time": "2021-08-11T06:53:52.459320",
     "exception": false,
     "start_time": "2021-08-11T06:53:52.405593",
     "status": "completed"
    },
    "tags": []
   },
   "outputs": [],
   "source": []
  }
 ],
 "metadata": {
  "kernelspec": {
   "display_name": "Python 3",
   "language": "python",
   "name": "python3"
  },
  "language_info": {
   "codemirror_mode": {
    "name": "ipython",
    "version": 3
   },
   "file_extension": ".py",
   "mimetype": "text/x-python",
   "name": "python",
   "nbconvert_exporter": "python",
   "pygments_lexer": "ipython3",
   "version": "3.7.10"
  },
  "papermill": {
   "default_parameters": {},
   "duration": 39.662195,
   "end_time": "2021-08-11T06:53:53.425616",
   "environment_variables": {},
   "exception": null,
   "input_path": "__notebook__.ipynb",
   "output_path": "__notebook__.ipynb",
   "parameters": {},
   "start_time": "2021-08-11T06:53:13.763421",
   "version": "2.3.3"
  }
 },
 "nbformat": 4,
 "nbformat_minor": 5
}
