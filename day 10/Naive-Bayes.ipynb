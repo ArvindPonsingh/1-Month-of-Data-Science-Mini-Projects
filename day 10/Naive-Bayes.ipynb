{
 "cells": [
  {
   "cell_type": "code",
   "execution_count": 1,
   "id": "d6feee95",
   "metadata": {
    "execution": {
     "iopub.execute_input": "2023-01-16T19:25:59.740871Z",
     "iopub.status.busy": "2023-01-16T19:25:59.740110Z",
     "iopub.status.idle": "2023-01-16T19:26:00.877696Z",
     "shell.execute_reply": "2023-01-16T19:26:00.876491Z"
    },
    "papermill": {
     "duration": 1.156349,
     "end_time": "2023-01-16T19:26:00.880682",
     "exception": false,
     "start_time": "2023-01-16T19:25:59.724333",
     "status": "completed"
    },
    "tags": []
   },
   "outputs": [],
   "source": [
    "#import our library\n",
    "\n",
    "import pandas as pd\n",
    "import numpy as np\n",
    "import matplotlib.pyplot as plt\n",
    "import seaborn as sns\n",
    "from sklearn.model_selection import train_test_split\n",
    "from sklearn.linear_model import LogisticRegression\n",
    "from sklearn import metrics\n",
    "from sklearn.model_selection import RandomizedSearchCV,GridSearchCV\n",
    "#For appling LogisticRegression\n",
    "from sklearn.linear_model import LogisticRegression\n",
    "from sklearn.naive_bayes import GaussianNB\n",
    "from sklearn.naive_bayes import ComplementNB\n",
    "from sklearn.naive_bayes import MultinomialNB\n",
    "from sklearn.naive_bayes import BernoulliNB\n",
    "#For math operations\n",
    "import math \n",
    "\n",
    "#Performance metrices\n",
    "from sklearn.metrics import roc_auc_score,roc_curve,auc,log_loss,confusion_matrix\n",
    "\n",
    "#For ignoring warnings\n",
    "import warnings\n"
   ]
  },
  {
   "cell_type": "code",
   "execution_count": 2,
   "id": "96031dc3",
   "metadata": {
    "execution": {
     "iopub.execute_input": "2023-01-16T19:26:00.902475Z",
     "iopub.status.busy": "2023-01-16T19:26:00.902048Z",
     "iopub.status.idle": "2023-01-16T19:26:00.914858Z",
     "shell.execute_reply": "2023-01-16T19:26:00.913666Z"
    },
    "papermill": {
     "duration": 0.026399,
     "end_time": "2023-01-16T19:26:00.917199",
     "exception": false,
     "start_time": "2023-01-16T19:26:00.890800",
     "status": "completed"
    },
    "tags": []
   },
   "outputs": [
    {
     "name": "stdout",
     "output_type": "stream",
     "text": [
      "/kaggle/input/diabetes/diabetes.csv\n"
     ]
    }
   ],
   "source": [
    "\n",
    "\n",
    "\n",
    "import os\n",
    "for dirname, _, filenames in os.walk('/kaggle/input'):\n",
    "    for filename in filenames:\n",
    "        print(os.path.join(dirname, filename))\n"
   ]
  },
  {
   "cell_type": "code",
   "execution_count": 3,
   "id": "a302d6f9",
   "metadata": {
    "execution": {
     "iopub.execute_input": "2023-01-16T19:26:00.939007Z",
     "iopub.status.busy": "2023-01-16T19:26:00.938309Z",
     "iopub.status.idle": "2023-01-16T19:26:00.976297Z",
     "shell.execute_reply": "2023-01-16T19:26:00.975263Z"
    },
    "papermill": {
     "duration": 0.051465,
     "end_time": "2023-01-16T19:26:00.978640",
     "exception": false,
     "start_time": "2023-01-16T19:26:00.927175",
     "status": "completed"
    },
    "tags": []
   },
   "outputs": [
    {
     "data": {
      "text/html": [
       "<div>\n",
       "<style scoped>\n",
       "    .dataframe tbody tr th:only-of-type {\n",
       "        vertical-align: middle;\n",
       "    }\n",
       "\n",
       "    .dataframe tbody tr th {\n",
       "        vertical-align: top;\n",
       "    }\n",
       "\n",
       "    .dataframe thead th {\n",
       "        text-align: right;\n",
       "    }\n",
       "</style>\n",
       "<table border=\"1\" class=\"dataframe\">\n",
       "  <thead>\n",
       "    <tr style=\"text-align: right;\">\n",
       "      <th></th>\n",
       "      <th>Pregnancies</th>\n",
       "      <th>Glucose</th>\n",
       "      <th>BloodPressure</th>\n",
       "      <th>SkinThickness</th>\n",
       "      <th>Insulin</th>\n",
       "      <th>BMI</th>\n",
       "      <th>DiabetesPedigreeFunction</th>\n",
       "      <th>Age</th>\n",
       "      <th>Outcome</th>\n",
       "    </tr>\n",
       "  </thead>\n",
       "  <tbody>\n",
       "    <tr>\n",
       "      <th>0</th>\n",
       "      <td>6</td>\n",
       "      <td>148</td>\n",
       "      <td>72</td>\n",
       "      <td>35</td>\n",
       "      <td>0</td>\n",
       "      <td>33.6</td>\n",
       "      <td>0.627</td>\n",
       "      <td>50</td>\n",
       "      <td>1</td>\n",
       "    </tr>\n",
       "    <tr>\n",
       "      <th>1</th>\n",
       "      <td>1</td>\n",
       "      <td>85</td>\n",
       "      <td>66</td>\n",
       "      <td>29</td>\n",
       "      <td>0</td>\n",
       "      <td>26.6</td>\n",
       "      <td>0.351</td>\n",
       "      <td>31</td>\n",
       "      <td>0</td>\n",
       "    </tr>\n",
       "    <tr>\n",
       "      <th>2</th>\n",
       "      <td>8</td>\n",
       "      <td>183</td>\n",
       "      <td>64</td>\n",
       "      <td>0</td>\n",
       "      <td>0</td>\n",
       "      <td>23.3</td>\n",
       "      <td>0.672</td>\n",
       "      <td>32</td>\n",
       "      <td>1</td>\n",
       "    </tr>\n",
       "    <tr>\n",
       "      <th>3</th>\n",
       "      <td>1</td>\n",
       "      <td>89</td>\n",
       "      <td>66</td>\n",
       "      <td>23</td>\n",
       "      <td>94</td>\n",
       "      <td>28.1</td>\n",
       "      <td>0.167</td>\n",
       "      <td>21</td>\n",
       "      <td>0</td>\n",
       "    </tr>\n",
       "    <tr>\n",
       "      <th>4</th>\n",
       "      <td>0</td>\n",
       "      <td>137</td>\n",
       "      <td>40</td>\n",
       "      <td>35</td>\n",
       "      <td>168</td>\n",
       "      <td>43.1</td>\n",
       "      <td>2.288</td>\n",
       "      <td>33</td>\n",
       "      <td>1</td>\n",
       "    </tr>\n",
       "    <tr>\n",
       "      <th>...</th>\n",
       "      <td>...</td>\n",
       "      <td>...</td>\n",
       "      <td>...</td>\n",
       "      <td>...</td>\n",
       "      <td>...</td>\n",
       "      <td>...</td>\n",
       "      <td>...</td>\n",
       "      <td>...</td>\n",
       "      <td>...</td>\n",
       "    </tr>\n",
       "    <tr>\n",
       "      <th>763</th>\n",
       "      <td>10</td>\n",
       "      <td>101</td>\n",
       "      <td>76</td>\n",
       "      <td>48</td>\n",
       "      <td>180</td>\n",
       "      <td>32.9</td>\n",
       "      <td>0.171</td>\n",
       "      <td>63</td>\n",
       "      <td>0</td>\n",
       "    </tr>\n",
       "    <tr>\n",
       "      <th>764</th>\n",
       "      <td>2</td>\n",
       "      <td>122</td>\n",
       "      <td>70</td>\n",
       "      <td>27</td>\n",
       "      <td>0</td>\n",
       "      <td>36.8</td>\n",
       "      <td>0.340</td>\n",
       "      <td>27</td>\n",
       "      <td>0</td>\n",
       "    </tr>\n",
       "    <tr>\n",
       "      <th>765</th>\n",
       "      <td>5</td>\n",
       "      <td>121</td>\n",
       "      <td>72</td>\n",
       "      <td>23</td>\n",
       "      <td>112</td>\n",
       "      <td>26.2</td>\n",
       "      <td>0.245</td>\n",
       "      <td>30</td>\n",
       "      <td>0</td>\n",
       "    </tr>\n",
       "    <tr>\n",
       "      <th>766</th>\n",
       "      <td>1</td>\n",
       "      <td>126</td>\n",
       "      <td>60</td>\n",
       "      <td>0</td>\n",
       "      <td>0</td>\n",
       "      <td>30.1</td>\n",
       "      <td>0.349</td>\n",
       "      <td>47</td>\n",
       "      <td>1</td>\n",
       "    </tr>\n",
       "    <tr>\n",
       "      <th>767</th>\n",
       "      <td>1</td>\n",
       "      <td>93</td>\n",
       "      <td>70</td>\n",
       "      <td>31</td>\n",
       "      <td>0</td>\n",
       "      <td>30.4</td>\n",
       "      <td>0.315</td>\n",
       "      <td>23</td>\n",
       "      <td>0</td>\n",
       "    </tr>\n",
       "  </tbody>\n",
       "</table>\n",
       "<p>768 rows × 9 columns</p>\n",
       "</div>"
      ],
      "text/plain": [
       "     Pregnancies  Glucose  BloodPressure  SkinThickness  Insulin   BMI  \\\n",
       "0              6      148             72             35        0  33.6   \n",
       "1              1       85             66             29        0  26.6   \n",
       "2              8      183             64              0        0  23.3   \n",
       "3              1       89             66             23       94  28.1   \n",
       "4              0      137             40             35      168  43.1   \n",
       "..           ...      ...            ...            ...      ...   ...   \n",
       "763           10      101             76             48      180  32.9   \n",
       "764            2      122             70             27        0  36.8   \n",
       "765            5      121             72             23      112  26.2   \n",
       "766            1      126             60              0        0  30.1   \n",
       "767            1       93             70             31        0  30.4   \n",
       "\n",
       "     DiabetesPedigreeFunction  Age  Outcome  \n",
       "0                       0.627   50        1  \n",
       "1                       0.351   31        0  \n",
       "2                       0.672   32        1  \n",
       "3                       0.167   21        0  \n",
       "4                       2.288   33        1  \n",
       "..                        ...  ...      ...  \n",
       "763                     0.171   63        0  \n",
       "764                     0.340   27        0  \n",
       "765                     0.245   30        0  \n",
       "766                     0.349   47        1  \n",
       "767                     0.315   23        0  \n",
       "\n",
       "[768 rows x 9 columns]"
      ]
     },
     "execution_count": 3,
     "metadata": {},
     "output_type": "execute_result"
    }
   ],
   "source": [
    "#loading data \n",
    "data= pd.read_csv(\"/kaggle/input/diabetes/diabetes.csv\")\n",
    "data"
   ]
  },
  {
   "cell_type": "code",
   "execution_count": 4,
   "id": "190a8432",
   "metadata": {
    "execution": {
     "iopub.execute_input": "2023-01-16T19:26:01.002459Z",
     "iopub.status.busy": "2023-01-16T19:26:01.002081Z",
     "iopub.status.idle": "2023-01-16T19:26:01.007704Z",
     "shell.execute_reply": "2023-01-16T19:26:01.006630Z"
    },
    "papermill": {
     "duration": 0.019471,
     "end_time": "2023-01-16T19:26:01.009889",
     "exception": false,
     "start_time": "2023-01-16T19:26:00.990418",
     "status": "completed"
    },
    "tags": []
   },
   "outputs": [
    {
     "data": {
      "text/plain": [
       "(768, 9)"
      ]
     },
     "execution_count": 4,
     "metadata": {},
     "output_type": "execute_result"
    }
   ],
   "source": [
    "# checking the number of rows and columns\n",
    "data.shape"
   ]
  },
  {
   "cell_type": "code",
   "execution_count": 5,
   "id": "13d0dddc",
   "metadata": {
    "execution": {
     "iopub.execute_input": "2023-01-16T19:26:01.032420Z",
     "iopub.status.busy": "2023-01-16T19:26:01.032018Z",
     "iopub.status.idle": "2023-01-16T19:26:01.055548Z",
     "shell.execute_reply": "2023-01-16T19:26:01.052984Z"
    },
    "papermill": {
     "duration": 0.038671,
     "end_time": "2023-01-16T19:26:01.058989",
     "exception": false,
     "start_time": "2023-01-16T19:26:01.020318",
     "status": "completed"
    },
    "tags": []
   },
   "outputs": [
    {
     "name": "stdout",
     "output_type": "stream",
     "text": [
      "<class 'pandas.core.frame.DataFrame'>\n",
      "RangeIndex: 768 entries, 0 to 767\n",
      "Data columns (total 9 columns):\n",
      " #   Column                    Non-Null Count  Dtype  \n",
      "---  ------                    --------------  -----  \n",
      " 0   Pregnancies               768 non-null    int64  \n",
      " 1   Glucose                   768 non-null    int64  \n",
      " 2   BloodPressure             768 non-null    int64  \n",
      " 3   SkinThickness             768 non-null    int64  \n",
      " 4   Insulin                   768 non-null    int64  \n",
      " 5   BMI                       768 non-null    float64\n",
      " 6   DiabetesPedigreeFunction  768 non-null    float64\n",
      " 7   Age                       768 non-null    int64  \n",
      " 8   Outcome                   768 non-null    int64  \n",
      "dtypes: float64(2), int64(7)\n",
      "memory usage: 54.1 KB\n"
     ]
    }
   ],
   "source": [
    "#getting some information about the datafram\n",
    "data.info()"
   ]
  },
  {
   "cell_type": "code",
   "execution_count": 6,
   "id": "7a83746c",
   "metadata": {
    "execution": {
     "iopub.execute_input": "2023-01-16T19:26:01.084171Z",
     "iopub.status.busy": "2023-01-16T19:26:01.083204Z",
     "iopub.status.idle": "2023-01-16T19:26:01.091905Z",
     "shell.execute_reply": "2023-01-16T19:26:01.090653Z"
    },
    "papermill": {
     "duration": 0.024132,
     "end_time": "2023-01-16T19:26:01.094838",
     "exception": false,
     "start_time": "2023-01-16T19:26:01.070706",
     "status": "completed"
    },
    "tags": []
   },
   "outputs": [
    {
     "data": {
      "text/plain": [
       "Pregnancies                 0\n",
       "Glucose                     0\n",
       "BloodPressure               0\n",
       "SkinThickness               0\n",
       "Insulin                     0\n",
       "BMI                         0\n",
       "DiabetesPedigreeFunction    0\n",
       "Age                         0\n",
       "Outcome                     0\n",
       "dtype: int64"
      ]
     },
     "execution_count": 6,
     "metadata": {},
     "output_type": "execute_result"
    }
   ],
   "source": [
    "#number of null values in our dataset\n",
    "data.isnull().sum()"
   ]
  },
  {
   "cell_type": "code",
   "execution_count": 7,
   "id": "38f29036",
   "metadata": {
    "execution": {
     "iopub.execute_input": "2023-01-16T19:26:01.120477Z",
     "iopub.status.busy": "2023-01-16T19:26:01.119513Z",
     "iopub.status.idle": "2023-01-16T19:26:01.132893Z",
     "shell.execute_reply": "2023-01-16T19:26:01.131764Z"
    },
    "papermill": {
     "duration": 0.028293,
     "end_time": "2023-01-16T19:26:01.135155",
     "exception": false,
     "start_time": "2023-01-16T19:26:01.106862",
     "status": "completed"
    },
    "tags": []
   },
   "outputs": [
    {
     "data": {
      "text/plain": [
       "Pregnancies                  17\n",
       "Glucose                     136\n",
       "BloodPressure                47\n",
       "SkinThickness                51\n",
       "Insulin                     186\n",
       "BMI                         248\n",
       "DiabetesPedigreeFunction    517\n",
       "Age                          52\n",
       "Outcome                       2\n",
       "dtype: int64"
      ]
     },
     "execution_count": 7,
     "metadata": {},
     "output_type": "execute_result"
    }
   ],
   "source": [
    "#To check number of uniqe elements in each columns.\n",
    "data.nunique()"
   ]
  },
  {
   "cell_type": "code",
   "execution_count": 8,
   "id": "35d6491d",
   "metadata": {
    "execution": {
     "iopub.execute_input": "2023-01-16T19:26:01.159810Z",
     "iopub.status.busy": "2023-01-16T19:26:01.158950Z",
     "iopub.status.idle": "2023-01-16T19:26:01.180244Z",
     "shell.execute_reply": "2023-01-16T19:26:01.179046Z"
    },
    "papermill": {
     "duration": 0.036455,
     "end_time": "2023-01-16T19:26:01.182432",
     "exception": false,
     "start_time": "2023-01-16T19:26:01.145977",
     "status": "completed"
    },
    "tags": []
   },
   "outputs": [
    {
     "data": {
      "text/html": [
       "<div>\n",
       "<style scoped>\n",
       "    .dataframe tbody tr th:only-of-type {\n",
       "        vertical-align: middle;\n",
       "    }\n",
       "\n",
       "    .dataframe tbody tr th {\n",
       "        vertical-align: top;\n",
       "    }\n",
       "\n",
       "    .dataframe thead th {\n",
       "        text-align: right;\n",
       "    }\n",
       "</style>\n",
       "<table border=\"1\" class=\"dataframe\">\n",
       "  <thead>\n",
       "    <tr style=\"text-align: right;\">\n",
       "      <th></th>\n",
       "      <th>Glucose</th>\n",
       "      <th>BloodPressure</th>\n",
       "      <th>SkinThickness</th>\n",
       "      <th>Insulin</th>\n",
       "      <th>BMI</th>\n",
       "      <th>DiabetesPedigreeFunction</th>\n",
       "      <th>Age</th>\n",
       "      <th>Outcome</th>\n",
       "    </tr>\n",
       "  </thead>\n",
       "  <tbody>\n",
       "    <tr>\n",
       "      <th>0</th>\n",
       "      <td>148</td>\n",
       "      <td>72</td>\n",
       "      <td>35</td>\n",
       "      <td>0</td>\n",
       "      <td>33.6</td>\n",
       "      <td>0.627</td>\n",
       "      <td>50</td>\n",
       "      <td>1</td>\n",
       "    </tr>\n",
       "    <tr>\n",
       "      <th>1</th>\n",
       "      <td>85</td>\n",
       "      <td>66</td>\n",
       "      <td>29</td>\n",
       "      <td>0</td>\n",
       "      <td>26.6</td>\n",
       "      <td>0.351</td>\n",
       "      <td>31</td>\n",
       "      <td>0</td>\n",
       "    </tr>\n",
       "    <tr>\n",
       "      <th>2</th>\n",
       "      <td>183</td>\n",
       "      <td>64</td>\n",
       "      <td>0</td>\n",
       "      <td>0</td>\n",
       "      <td>23.3</td>\n",
       "      <td>0.672</td>\n",
       "      <td>32</td>\n",
       "      <td>1</td>\n",
       "    </tr>\n",
       "    <tr>\n",
       "      <th>3</th>\n",
       "      <td>89</td>\n",
       "      <td>66</td>\n",
       "      <td>23</td>\n",
       "      <td>94</td>\n",
       "      <td>28.1</td>\n",
       "      <td>0.167</td>\n",
       "      <td>21</td>\n",
       "      <td>0</td>\n",
       "    </tr>\n",
       "    <tr>\n",
       "      <th>4</th>\n",
       "      <td>137</td>\n",
       "      <td>40</td>\n",
       "      <td>35</td>\n",
       "      <td>168</td>\n",
       "      <td>43.1</td>\n",
       "      <td>2.288</td>\n",
       "      <td>33</td>\n",
       "      <td>1</td>\n",
       "    </tr>\n",
       "    <tr>\n",
       "      <th>...</th>\n",
       "      <td>...</td>\n",
       "      <td>...</td>\n",
       "      <td>...</td>\n",
       "      <td>...</td>\n",
       "      <td>...</td>\n",
       "      <td>...</td>\n",
       "      <td>...</td>\n",
       "      <td>...</td>\n",
       "    </tr>\n",
       "    <tr>\n",
       "      <th>763</th>\n",
       "      <td>101</td>\n",
       "      <td>76</td>\n",
       "      <td>48</td>\n",
       "      <td>180</td>\n",
       "      <td>32.9</td>\n",
       "      <td>0.171</td>\n",
       "      <td>63</td>\n",
       "      <td>0</td>\n",
       "    </tr>\n",
       "    <tr>\n",
       "      <th>764</th>\n",
       "      <td>122</td>\n",
       "      <td>70</td>\n",
       "      <td>27</td>\n",
       "      <td>0</td>\n",
       "      <td>36.8</td>\n",
       "      <td>0.340</td>\n",
       "      <td>27</td>\n",
       "      <td>0</td>\n",
       "    </tr>\n",
       "    <tr>\n",
       "      <th>765</th>\n",
       "      <td>121</td>\n",
       "      <td>72</td>\n",
       "      <td>23</td>\n",
       "      <td>112</td>\n",
       "      <td>26.2</td>\n",
       "      <td>0.245</td>\n",
       "      <td>30</td>\n",
       "      <td>0</td>\n",
       "    </tr>\n",
       "    <tr>\n",
       "      <th>766</th>\n",
       "      <td>126</td>\n",
       "      <td>60</td>\n",
       "      <td>0</td>\n",
       "      <td>0</td>\n",
       "      <td>30.1</td>\n",
       "      <td>0.349</td>\n",
       "      <td>47</td>\n",
       "      <td>1</td>\n",
       "    </tr>\n",
       "    <tr>\n",
       "      <th>767</th>\n",
       "      <td>93</td>\n",
       "      <td>70</td>\n",
       "      <td>31</td>\n",
       "      <td>0</td>\n",
       "      <td>30.4</td>\n",
       "      <td>0.315</td>\n",
       "      <td>23</td>\n",
       "      <td>0</td>\n",
       "    </tr>\n",
       "  </tbody>\n",
       "</table>\n",
       "<p>768 rows × 8 columns</p>\n",
       "</div>"
      ],
      "text/plain": [
       "     Glucose  BloodPressure  SkinThickness  Insulin   BMI  \\\n",
       "0        148             72             35        0  33.6   \n",
       "1         85             66             29        0  26.6   \n",
       "2        183             64              0        0  23.3   \n",
       "3         89             66             23       94  28.1   \n",
       "4        137             40             35      168  43.1   \n",
       "..       ...            ...            ...      ...   ...   \n",
       "763      101             76             48      180  32.9   \n",
       "764      122             70             27        0  36.8   \n",
       "765      121             72             23      112  26.2   \n",
       "766      126             60              0        0  30.1   \n",
       "767       93             70             31        0  30.4   \n",
       "\n",
       "     DiabetesPedigreeFunction  Age  Outcome  \n",
       "0                       0.627   50        1  \n",
       "1                       0.351   31        0  \n",
       "2                       0.672   32        1  \n",
       "3                       0.167   21        0  \n",
       "4                       2.288   33        1  \n",
       "..                        ...  ...      ...  \n",
       "763                     0.171   63        0  \n",
       "764                     0.340   27        0  \n",
       "765                     0.245   30        0  \n",
       "766                     0.349   47        1  \n",
       "767                     0.315   23        0  \n",
       "\n",
       "[768 rows x 8 columns]"
      ]
     },
     "execution_count": 8,
     "metadata": {},
     "output_type": "execute_result"
    }
   ],
   "source": [
    "#for Gaussian model drop discrete columns\n",
    "df=pd.DataFrame(data.drop('Pregnancies',axis=1))\n",
    "df\n",
    "                "
   ]
  },
  {
   "cell_type": "code",
   "execution_count": 9,
   "id": "1e9f6561",
   "metadata": {
    "execution": {
     "iopub.execute_input": "2023-01-16T19:26:01.206549Z",
     "iopub.status.busy": "2023-01-16T19:26:01.206129Z",
     "iopub.status.idle": "2023-01-16T19:26:01.241322Z",
     "shell.execute_reply": "2023-01-16T19:26:01.240187Z"
    },
    "papermill": {
     "duration": 0.050033,
     "end_time": "2023-01-16T19:26:01.243705",
     "exception": false,
     "start_time": "2023-01-16T19:26:01.193672",
     "status": "completed"
    },
    "tags": []
   },
   "outputs": [
    {
     "data": {
      "text/html": [
       "<div>\n",
       "<style scoped>\n",
       "    .dataframe tbody tr th:only-of-type {\n",
       "        vertical-align: middle;\n",
       "    }\n",
       "\n",
       "    .dataframe tbody tr th {\n",
       "        vertical-align: top;\n",
       "    }\n",
       "\n",
       "    .dataframe thead th {\n",
       "        text-align: right;\n",
       "    }\n",
       "</style>\n",
       "<table border=\"1\" class=\"dataframe\">\n",
       "  <thead>\n",
       "    <tr style=\"text-align: right;\">\n",
       "      <th></th>\n",
       "      <th>Glucose</th>\n",
       "      <th>BloodPressure</th>\n",
       "      <th>SkinThickness</th>\n",
       "      <th>Insulin</th>\n",
       "      <th>BMI</th>\n",
       "      <th>DiabetesPedigreeFunction</th>\n",
       "      <th>Age</th>\n",
       "      <th>Outcome</th>\n",
       "    </tr>\n",
       "  </thead>\n",
       "  <tbody>\n",
       "    <tr>\n",
       "      <th>count</th>\n",
       "      <td>768.000000</td>\n",
       "      <td>768.000000</td>\n",
       "      <td>768.000000</td>\n",
       "      <td>768.000000</td>\n",
       "      <td>768.000000</td>\n",
       "      <td>768.000000</td>\n",
       "      <td>768.000000</td>\n",
       "      <td>768.000000</td>\n",
       "    </tr>\n",
       "    <tr>\n",
       "      <th>mean</th>\n",
       "      <td>120.894531</td>\n",
       "      <td>69.105469</td>\n",
       "      <td>20.536458</td>\n",
       "      <td>79.799479</td>\n",
       "      <td>31.992578</td>\n",
       "      <td>0.471876</td>\n",
       "      <td>33.240885</td>\n",
       "      <td>0.348958</td>\n",
       "    </tr>\n",
       "    <tr>\n",
       "      <th>std</th>\n",
       "      <td>31.972618</td>\n",
       "      <td>19.355807</td>\n",
       "      <td>15.952218</td>\n",
       "      <td>115.244002</td>\n",
       "      <td>7.884160</td>\n",
       "      <td>0.331329</td>\n",
       "      <td>11.760232</td>\n",
       "      <td>0.476951</td>\n",
       "    </tr>\n",
       "    <tr>\n",
       "      <th>min</th>\n",
       "      <td>0.000000</td>\n",
       "      <td>0.000000</td>\n",
       "      <td>0.000000</td>\n",
       "      <td>0.000000</td>\n",
       "      <td>0.000000</td>\n",
       "      <td>0.078000</td>\n",
       "      <td>21.000000</td>\n",
       "      <td>0.000000</td>\n",
       "    </tr>\n",
       "    <tr>\n",
       "      <th>25%</th>\n",
       "      <td>99.000000</td>\n",
       "      <td>62.000000</td>\n",
       "      <td>0.000000</td>\n",
       "      <td>0.000000</td>\n",
       "      <td>27.300000</td>\n",
       "      <td>0.243750</td>\n",
       "      <td>24.000000</td>\n",
       "      <td>0.000000</td>\n",
       "    </tr>\n",
       "    <tr>\n",
       "      <th>50%</th>\n",
       "      <td>117.000000</td>\n",
       "      <td>72.000000</td>\n",
       "      <td>23.000000</td>\n",
       "      <td>30.500000</td>\n",
       "      <td>32.000000</td>\n",
       "      <td>0.372500</td>\n",
       "      <td>29.000000</td>\n",
       "      <td>0.000000</td>\n",
       "    </tr>\n",
       "    <tr>\n",
       "      <th>75%</th>\n",
       "      <td>140.250000</td>\n",
       "      <td>80.000000</td>\n",
       "      <td>32.000000</td>\n",
       "      <td>127.250000</td>\n",
       "      <td>36.600000</td>\n",
       "      <td>0.626250</td>\n",
       "      <td>41.000000</td>\n",
       "      <td>1.000000</td>\n",
       "    </tr>\n",
       "    <tr>\n",
       "      <th>max</th>\n",
       "      <td>199.000000</td>\n",
       "      <td>122.000000</td>\n",
       "      <td>99.000000</td>\n",
       "      <td>846.000000</td>\n",
       "      <td>67.100000</td>\n",
       "      <td>2.420000</td>\n",
       "      <td>81.000000</td>\n",
       "      <td>1.000000</td>\n",
       "    </tr>\n",
       "  </tbody>\n",
       "</table>\n",
       "</div>"
      ],
      "text/plain": [
       "          Glucose  BloodPressure  SkinThickness     Insulin         BMI  \\\n",
       "count  768.000000     768.000000     768.000000  768.000000  768.000000   \n",
       "mean   120.894531      69.105469      20.536458   79.799479   31.992578   \n",
       "std     31.972618      19.355807      15.952218  115.244002    7.884160   \n",
       "min      0.000000       0.000000       0.000000    0.000000    0.000000   \n",
       "25%     99.000000      62.000000       0.000000    0.000000   27.300000   \n",
       "50%    117.000000      72.000000      23.000000   30.500000   32.000000   \n",
       "75%    140.250000      80.000000      32.000000  127.250000   36.600000   \n",
       "max    199.000000     122.000000      99.000000  846.000000   67.100000   \n",
       "\n",
       "       DiabetesPedigreeFunction         Age     Outcome  \n",
       "count                768.000000  768.000000  768.000000  \n",
       "mean                   0.471876   33.240885    0.348958  \n",
       "std                    0.331329   11.760232    0.476951  \n",
       "min                    0.078000   21.000000    0.000000  \n",
       "25%                    0.243750   24.000000    0.000000  \n",
       "50%                    0.372500   29.000000    0.000000  \n",
       "75%                    0.626250   41.000000    1.000000  \n",
       "max                    2.420000   81.000000    1.000000  "
      ]
     },
     "execution_count": 9,
     "metadata": {},
     "output_type": "execute_result"
    }
   ],
   "source": [
    "df.describe()"
   ]
  },
  {
   "cell_type": "code",
   "execution_count": 10,
   "id": "8e5fe9d4",
   "metadata": {
    "execution": {
     "iopub.execute_input": "2023-01-16T19:26:01.268836Z",
     "iopub.status.busy": "2023-01-16T19:26:01.268407Z",
     "iopub.status.idle": "2023-01-16T19:26:01.578084Z",
     "shell.execute_reply": "2023-01-16T19:26:01.576901Z"
    },
    "papermill": {
     "duration": 0.325057,
     "end_time": "2023-01-16T19:26:01.580403",
     "exception": false,
     "start_time": "2023-01-16T19:26:01.255346",
     "status": "completed"
    },
    "tags": []
   },
   "outputs": [
    {
     "data": {
      "image/png": "[encoded data removed]",
      "text/plain": [
       "<Figure size 576x576 with 1 Axes>"
      ]
     },
     "metadata": {
      "needs_background": "light"
     },
     "output_type": "display_data"
    }
   ],
   "source": [
    "plt.figure(figsize=(8,8))\n",
    "plt.scatter(df['Glucose'],df['Outcome'])\n",
    "plt.xlabel('Glucose')\n",
    "plt.ylabel('Diabetes')\n",
    "plt.title('Glucose vs Diabetes')\n",
    "plt.grid()\n"
   ]
  },
  {
   "cell_type": "code",
   "execution_count": 11,
   "id": "795c32d2",
   "metadata": {
    "execution": {
     "iopub.execute_input": "2023-01-16T19:26:01.605810Z",
     "iopub.status.busy": "2023-01-16T19:26:01.605402Z",
     "iopub.status.idle": "2023-01-16T19:26:01.851269Z",
     "shell.execute_reply": "2023-01-16T19:26:01.849848Z"
    },
    "papermill": {
     "duration": 0.261558,
     "end_time": "2023-01-16T19:26:01.853694",
     "exception": false,
     "start_time": "2023-01-16T19:26:01.592136",
     "status": "completed"
    },
    "tags": []
   },
   "outputs": [
    {
     "data": {
      "image/png": "[encoded data removed]",
      "text/plain": [
       "<Figure size 576x576 with 1 Axes>"
      ]
     },
     "metadata": {
      "needs_background": "light"
     },
     "output_type": "display_data"
    }
   ],
   "source": [
    "plt.figure(figsize=(8,8))\n",
    "plt.scatter(df['SkinThickness'],df['Outcome'])\n",
    "plt.xlabel('SkinThickness')\n",
    "plt.ylabel('Diabetes')\n",
    "plt.title('SkinThickness vs Diabetes')\n",
    "plt.grid()"
   ]
  },
  {
   "cell_type": "code",
   "execution_count": 12,
   "id": "de4c1e9f",
   "metadata": {
    "execution": {
     "iopub.execute_input": "2023-01-16T19:26:01.880936Z",
     "iopub.status.busy": "2023-01-16T19:26:01.880529Z",
     "iopub.status.idle": "2023-01-16T19:26:01.885138Z",
     "shell.execute_reply": "2023-01-16T19:26:01.883894Z"
    },
    "papermill": {
     "duration": 0.020927,
     "end_time": "2023-01-16T19:26:01.887400",
     "exception": false,
     "start_time": "2023-01-16T19:26:01.866473",
     "status": "completed"
    },
    "tags": []
   },
   "outputs": [],
   "source": [
    "#SkinThickness=0 is noise"
   ]
  },
  {
   "cell_type": "code",
   "execution_count": 13,
   "id": "f4425a73",
   "metadata": {
    "execution": {
     "iopub.execute_input": "2023-01-16T19:26:01.914205Z",
     "iopub.status.busy": "2023-01-16T19:26:01.913805Z",
     "iopub.status.idle": "2023-01-16T19:26:02.153831Z",
     "shell.execute_reply": "2023-01-16T19:26:02.152728Z"
    },
    "papermill": {
     "duration": 0.256207,
     "end_time": "2023-01-16T19:26:02.156409",
     "exception": false,
     "start_time": "2023-01-16T19:26:01.900202",
     "status": "completed"
    },
    "tags": []
   },
   "outputs": [
    {
     "data": {
      "image/png": "[encoded data removed]",
      "text/plain": [
       "<Figure size 576x576 with 1 Axes>"
      ]
     },
     "metadata": {
      "needs_background": "light"
     },
     "output_type": "display_data"
    }
   ],
   "source": [
    "plt.figure(figsize=(8,8))\n",
    "plt.scatter(df['Insulin'],df['Outcome'])\n",
    "plt.xlabel('Insulin')\n",
    "plt.ylabel('Diabetes')\n",
    "plt.title('Insulin vs Diabetes')\n",
    "plt.grid()"
   ]
  },
  {
   "cell_type": "code",
   "execution_count": 14,
   "id": "38667b4a",
   "metadata": {
    "execution": {
     "iopub.execute_input": "2023-01-16T19:26:02.182728Z",
     "iopub.status.busy": "2023-01-16T19:26:02.182306Z",
     "iopub.status.idle": "2023-01-16T19:26:02.435280Z",
     "shell.execute_reply": "2023-01-16T19:26:02.434213Z"
    },
    "papermill": {
     "duration": 0.268883,
     "end_time": "2023-01-16T19:26:02.437746",
     "exception": false,
     "start_time": "2023-01-16T19:26:02.168863",
     "status": "completed"
    },
    "tags": []
   },
   "outputs": [
    {
     "data": {
      "image/png": "[encoded data removed]",
      "text/plain": [
       "<Figure size 576x576 with 1 Axes>"
      ]
     },
     "metadata": {
      "needs_background": "light"
     },
     "output_type": "display_data"
    }
   ],
   "source": [
    "plt.figure(figsize=(8,8))\n",
    "plt.scatter(df['BMI'],df['Outcome'])\n",
    "plt.xlabel('BMI')\n",
    "plt.ylabel('Diabetes')\n",
    "plt.title('BMI vs Diabetes')\n",
    "plt.grid()"
   ]
  },
  {
   "cell_type": "code",
   "execution_count": 15,
   "id": "4d192d8e",
   "metadata": {
    "execution": {
     "iopub.execute_input": "2023-01-16T19:26:02.464796Z",
     "iopub.status.busy": "2023-01-16T19:26:02.464363Z",
     "iopub.status.idle": "2023-01-16T19:26:02.731345Z",
     "shell.execute_reply": "2023-01-16T19:26:02.729676Z"
    },
    "papermill": {
     "duration": 0.283821,
     "end_time": "2023-01-16T19:26:02.734376",
     "exception": false,
     "start_time": "2023-01-16T19:26:02.450555",
     "status": "completed"
    },
    "tags": []
   },
   "outputs": [
    {
     "data": {
      "image/png": "[encoded data removed]",
      "text/plain": [
       "<Figure size 576x576 with 1 Axes>"
      ]
     },
     "metadata": {
      "needs_background": "light"
     },
     "output_type": "display_data"
    }
   ],
   "source": [
    "plt.figure(figsize=(8,8))\n",
    "plt.scatter(df['DiabetesPedigreeFunction'],df['Outcome'])\n",
    "plt.xlabel('DiabetesPedigreeFunction')\n",
    "plt.ylabel('Diabetes')\n",
    "plt.title('DiabetesPedigreeFunction vs Diabetes')\n",
    "plt.grid()"
   ]
  },
  {
   "cell_type": "code",
   "execution_count": 16,
   "id": "b50192a6",
   "metadata": {
    "execution": {
     "iopub.execute_input": "2023-01-16T19:26:02.762621Z",
     "iopub.status.busy": "2023-01-16T19:26:02.762184Z",
     "iopub.status.idle": "2023-01-16T19:26:03.012266Z",
     "shell.execute_reply": "2023-01-16T19:26:03.011441Z"
    },
    "papermill": {
     "duration": 0.266253,
     "end_time": "2023-01-16T19:26:03.014318",
     "exception": false,
     "start_time": "2023-01-16T19:26:02.748065",
     "status": "completed"
    },
    "tags": []
   },
   "outputs": [
    {
     "data": {
      "image/png": "[encoded data removed]",
      "text/plain": [
       "<Figure size 576x576 with 1 Axes>"
      ]
     },
     "metadata": {
      "needs_background": "light"
     },
     "output_type": "display_data"
    }
   ],
   "source": [
    "plt.figure(figsize=(8,8))\n",
    "plt.scatter(df['Age'],df['Outcome'])\n",
    "plt.xlabel('Age')\n",
    "plt.ylabel('Diabetes')\n",
    "plt.title('Age vs Diabetes')\n",
    "plt.grid()"
   ]
  },
  {
   "cell_type": "code",
   "execution_count": 17,
   "id": "1583487c",
   "metadata": {
    "execution": {
     "iopub.execute_input": "2023-01-16T19:26:03.043032Z",
     "iopub.status.busy": "2023-01-16T19:26:03.042260Z",
     "iopub.status.idle": "2023-01-16T19:26:03.060853Z",
     "shell.execute_reply": "2023-01-16T19:26:03.060043Z"
    },
    "papermill": {
     "duration": 0.035405,
     "end_time": "2023-01-16T19:26:03.062877",
     "exception": false,
     "start_time": "2023-01-16T19:26:03.027472",
     "status": "completed"
    },
    "tags": []
   },
   "outputs": [
    {
     "data": {
      "text/html": [
       "<div>\n",
       "<style scoped>\n",
       "    .dataframe tbody tr th:only-of-type {\n",
       "        vertical-align: middle;\n",
       "    }\n",
       "\n",
       "    .dataframe tbody tr th {\n",
       "        vertical-align: top;\n",
       "    }\n",
       "\n",
       "    .dataframe thead th {\n",
       "        text-align: right;\n",
       "    }\n",
       "</style>\n",
       "<table border=\"1\" class=\"dataframe\">\n",
       "  <thead>\n",
       "    <tr style=\"text-align: right;\">\n",
       "      <th></th>\n",
       "      <th>Glucose</th>\n",
       "      <th>BloodPressure</th>\n",
       "      <th>SkinThickness</th>\n",
       "      <th>Insulin</th>\n",
       "      <th>BMI</th>\n",
       "      <th>DiabetesPedigreeFunction</th>\n",
       "      <th>Age</th>\n",
       "      <th>Outcome</th>\n",
       "    </tr>\n",
       "  </thead>\n",
       "  <tbody>\n",
       "    <tr>\n",
       "      <th>0</th>\n",
       "      <td>148</td>\n",
       "      <td>72</td>\n",
       "      <td>35</td>\n",
       "      <td>0</td>\n",
       "      <td>33.6</td>\n",
       "      <td>0.627</td>\n",
       "      <td>50</td>\n",
       "      <td>1</td>\n",
       "    </tr>\n",
       "    <tr>\n",
       "      <th>1</th>\n",
       "      <td>85</td>\n",
       "      <td>66</td>\n",
       "      <td>29</td>\n",
       "      <td>0</td>\n",
       "      <td>26.6</td>\n",
       "      <td>0.351</td>\n",
       "      <td>31</td>\n",
       "      <td>0</td>\n",
       "    </tr>\n",
       "    <tr>\n",
       "      <th>2</th>\n",
       "      <td>183</td>\n",
       "      <td>64</td>\n",
       "      <td>0</td>\n",
       "      <td>0</td>\n",
       "      <td>23.3</td>\n",
       "      <td>0.672</td>\n",
       "      <td>32</td>\n",
       "      <td>1</td>\n",
       "    </tr>\n",
       "    <tr>\n",
       "      <th>3</th>\n",
       "      <td>89</td>\n",
       "      <td>66</td>\n",
       "      <td>23</td>\n",
       "      <td>94</td>\n",
       "      <td>28.1</td>\n",
       "      <td>0.167</td>\n",
       "      <td>21</td>\n",
       "      <td>0</td>\n",
       "    </tr>\n",
       "    <tr>\n",
       "      <th>4</th>\n",
       "      <td>137</td>\n",
       "      <td>40</td>\n",
       "      <td>35</td>\n",
       "      <td>168</td>\n",
       "      <td>43.1</td>\n",
       "      <td>2.288</td>\n",
       "      <td>33</td>\n",
       "      <td>1</td>\n",
       "    </tr>\n",
       "    <tr>\n",
       "      <th>...</th>\n",
       "      <td>...</td>\n",
       "      <td>...</td>\n",
       "      <td>...</td>\n",
       "      <td>...</td>\n",
       "      <td>...</td>\n",
       "      <td>...</td>\n",
       "      <td>...</td>\n",
       "      <td>...</td>\n",
       "    </tr>\n",
       "    <tr>\n",
       "      <th>763</th>\n",
       "      <td>101</td>\n",
       "      <td>76</td>\n",
       "      <td>48</td>\n",
       "      <td>180</td>\n",
       "      <td>32.9</td>\n",
       "      <td>0.171</td>\n",
       "      <td>63</td>\n",
       "      <td>0</td>\n",
       "    </tr>\n",
       "    <tr>\n",
       "      <th>764</th>\n",
       "      <td>122</td>\n",
       "      <td>70</td>\n",
       "      <td>27</td>\n",
       "      <td>0</td>\n",
       "      <td>36.8</td>\n",
       "      <td>0.340</td>\n",
       "      <td>27</td>\n",
       "      <td>0</td>\n",
       "    </tr>\n",
       "    <tr>\n",
       "      <th>765</th>\n",
       "      <td>121</td>\n",
       "      <td>72</td>\n",
       "      <td>23</td>\n",
       "      <td>112</td>\n",
       "      <td>26.2</td>\n",
       "      <td>0.245</td>\n",
       "      <td>30</td>\n",
       "      <td>0</td>\n",
       "    </tr>\n",
       "    <tr>\n",
       "      <th>766</th>\n",
       "      <td>126</td>\n",
       "      <td>60</td>\n",
       "      <td>0</td>\n",
       "      <td>0</td>\n",
       "      <td>30.1</td>\n",
       "      <td>0.349</td>\n",
       "      <td>47</td>\n",
       "      <td>1</td>\n",
       "    </tr>\n",
       "    <tr>\n",
       "      <th>767</th>\n",
       "      <td>93</td>\n",
       "      <td>70</td>\n",
       "      <td>31</td>\n",
       "      <td>0</td>\n",
       "      <td>30.4</td>\n",
       "      <td>0.315</td>\n",
       "      <td>23</td>\n",
       "      <td>0</td>\n",
       "    </tr>\n",
       "  </tbody>\n",
       "</table>\n",
       "<p>768 rows × 8 columns</p>\n",
       "</div>"
      ],
      "text/plain": [
       "     Glucose  BloodPressure  SkinThickness  Insulin   BMI  \\\n",
       "0        148             72             35        0  33.6   \n",
       "1         85             66             29        0  26.6   \n",
       "2        183             64              0        0  23.3   \n",
       "3         89             66             23       94  28.1   \n",
       "4        137             40             35      168  43.1   \n",
       "..       ...            ...            ...      ...   ...   \n",
       "763      101             76             48      180  32.9   \n",
       "764      122             70             27        0  36.8   \n",
       "765      121             72             23      112  26.2   \n",
       "766      126             60              0        0  30.1   \n",
       "767       93             70             31        0  30.4   \n",
       "\n",
       "     DiabetesPedigreeFunction  Age  Outcome  \n",
       "0                       0.627   50        1  \n",
       "1                       0.351   31        0  \n",
       "2                       0.672   32        1  \n",
       "3                       0.167   21        0  \n",
       "4                       2.288   33        1  \n",
       "..                        ...  ...      ...  \n",
       "763                     0.171   63        0  \n",
       "764                     0.340   27        0  \n",
       "765                     0.245   30        0  \n",
       "766                     0.349   47        1  \n",
       "767                     0.315   23        0  \n",
       "\n",
       "[768 rows x 8 columns]"
      ]
     },
     "execution_count": 17,
     "metadata": {},
     "output_type": "execute_result"
    }
   ],
   "source": [
    "df"
   ]
  },
  {
   "cell_type": "code",
   "execution_count": 18,
   "id": "3ecccc80",
   "metadata": {
    "execution": {
     "iopub.execute_input": "2023-01-16T19:26:03.092093Z",
     "iopub.status.busy": "2023-01-16T19:26:03.091393Z",
     "iopub.status.idle": "2023-01-16T19:26:05.479875Z",
     "shell.execute_reply": "2023-01-16T19:26:05.478718Z"
    },
    "papermill": {
     "duration": 2.405769,
     "end_time": "2023-01-16T19:26:05.482237",
     "exception": false,
     "start_time": "2023-01-16T19:26:03.076468",
     "status": "completed"
    },
    "tags": []
   },
   "outputs": [
    {
     "data": {
      "image/png": "[encoded data removed]",
      "text/plain": [
       "<Figure size 3600x1800 with 1 Axes>"
      ]
     },
     "metadata": {
      "needs_background": "light"
     },
     "output_type": "display_data"
    }
   ],
   "source": [
    "plt.figure(figsize=(40,20),dpi=90)\n",
    "ax=sns.countplot(x='Glucose',data=df)\n",
    "plt.xticks(rotation=90, fontsize=20)\n",
    "plt.yticks(fontsize=20)\n",
    "plt.xlabel('Glucose',fontsize=20)\n",
    "plt.ylabel('Diabetes',fontsize=20)\n",
    "plt.title('count of Glucose',fontsize=30)\n",
    "plt.grid()"
   ]
  },
  {
   "cell_type": "code",
   "execution_count": 19,
   "id": "8cfc4bf0",
   "metadata": {
    "execution": {
     "iopub.execute_input": "2023-01-16T19:26:05.514258Z",
     "iopub.status.busy": "2023-01-16T19:26:05.513788Z",
     "iopub.status.idle": "2023-01-16T19:26:06.704901Z",
     "shell.execute_reply": "2023-01-16T19:26:06.703826Z"
    },
    "papermill": {
     "duration": 1.210112,
     "end_time": "2023-01-16T19:26:06.707700",
     "exception": false,
     "start_time": "2023-01-16T19:26:05.497588",
     "status": "completed"
    },
    "tags": []
   },
   "outputs": [
    {
     "data": {
      "image/png": "[encoded data removed]",
      "text/plain": [
       "<Figure size 3600x1800 with 1 Axes>"
      ]
     },
     "metadata": {
      "needs_background": "light"
     },
     "output_type": "display_data"
    }
   ],
   "source": [
    "plt.figure(figsize=(40,20),dpi=90)\n",
    "ax=sns.countplot(x='BloodPressure',data=df)\n",
    "plt.xticks(rotation=90, fontsize=20)\n",
    "plt.yticks(fontsize=20)\n",
    "plt.xlabel('BloodPressure',fontsize=20)\n",
    "plt.ylabel('Diabetes',fontsize=20)\n",
    "plt.title('count of BloodPressure',fontsize=30)\n",
    "plt.grid()"
   ]
  },
  {
   "cell_type": "code",
   "execution_count": 20,
   "id": "9a8f0338",
   "metadata": {
    "execution": {
     "iopub.execute_input": "2023-01-16T19:26:06.741331Z",
     "iopub.status.busy": "2023-01-16T19:26:06.740955Z",
     "iopub.status.idle": "2023-01-16T19:26:07.940704Z",
     "shell.execute_reply": "2023-01-16T19:26:07.939095Z"
    },
    "papermill": {
     "duration": 1.219238,
     "end_time": "2023-01-16T19:26:07.943266",
     "exception": false,
     "start_time": "2023-01-16T19:26:06.724028",
     "status": "completed"
    },
    "tags": []
   },
   "outputs": [
    {
     "data": {
      "image/png": "[encoded data removed]",
      "text/plain": [
       "<Figure size 3600x1800 with 1 Axes>"
      ]
     },
     "metadata": {
      "needs_background": "light"
     },
     "output_type": "display_data"
    }
   ],
   "source": [
    "plt.figure(figsize=(40,20),dpi=90)\n",
    "ax=sns.countplot(x='SkinThickness',data=df)\n",
    "plt.xticks(rotation=90, fontsize=20)\n",
    "plt.yticks(fontsize=20)\n",
    "plt.xlabel('SkinThickness',fontsize=20)\n",
    "plt.ylabel('Diabetes',fontsize=20)\n",
    "plt.title('count of SkinThickness',fontsize=30)\n",
    "plt.grid()"
   ]
  },
  {
   "cell_type": "code",
   "execution_count": 21,
   "id": "f6ab5e2b",
   "metadata": {
    "execution": {
     "iopub.execute_input": "2023-01-16T19:26:07.979269Z",
     "iopub.status.busy": "2023-01-16T19:26:07.978265Z",
     "iopub.status.idle": "2023-01-16T19:26:09.194226Z",
     "shell.execute_reply": "2023-01-16T19:26:09.193024Z"
    },
    "papermill": {
     "duration": 1.236733,
     "end_time": "2023-01-16T19:26:09.196998",
     "exception": false,
     "start_time": "2023-01-16T19:26:07.960265",
     "status": "completed"
    },
    "tags": []
   },
   "outputs": [
    {
     "data": {
      "image/png": "[encoded data removed]",
      "text/plain": [
       "<Figure size 3600x1800 with 1 Axes>"
      ]
     },
     "metadata": {
      "needs_background": "light"
     },
     "output_type": "display_data"
    }
   ],
   "source": [
    "plt.figure(figsize=(40,20),dpi=90)\n",
    "ax=sns.countplot(x='Age',data=df)\n",
    "plt.xticks(rotation=90, fontsize=20)\n",
    "plt.yticks(fontsize=20)\n",
    "plt.xlabel('Age',fontsize=20)\n",
    "plt.ylabel('Diabetes',fontsize=20)\n",
    "plt.title('count of Age',fontsize=30)\n",
    "plt.grid()"
   ]
  },
  {
   "cell_type": "code",
   "execution_count": 22,
   "id": "176af3e1",
   "metadata": {
    "execution": {
     "iopub.execute_input": "2023-01-16T19:26:09.233975Z",
     "iopub.status.busy": "2023-01-16T19:26:09.233558Z",
     "iopub.status.idle": "2023-01-16T19:26:09.253543Z",
     "shell.execute_reply": "2023-01-16T19:26:09.252459Z"
    },
    "papermill": {
     "duration": 0.041145,
     "end_time": "2023-01-16T19:26:09.255792",
     "exception": false,
     "start_time": "2023-01-16T19:26:09.214647",
     "status": "completed"
    },
    "tags": []
   },
   "outputs": [
    {
     "data": {
      "text/html": [
       "<div>\n",
       "<style scoped>\n",
       "    .dataframe tbody tr th:only-of-type {\n",
       "        vertical-align: middle;\n",
       "    }\n",
       "\n",
       "    .dataframe tbody tr th {\n",
       "        vertical-align: top;\n",
       "    }\n",
       "\n",
       "    .dataframe thead th {\n",
       "        text-align: right;\n",
       "    }\n",
       "</style>\n",
       "<table border=\"1\" class=\"dataframe\">\n",
       "  <thead>\n",
       "    <tr style=\"text-align: right;\">\n",
       "      <th></th>\n",
       "      <th>Glucose</th>\n",
       "      <th>BloodPressure</th>\n",
       "      <th>SkinThickness</th>\n",
       "      <th>Insulin</th>\n",
       "      <th>BMI</th>\n",
       "      <th>DiabetesPedigreeFunction</th>\n",
       "      <th>Age</th>\n",
       "      <th>Outcome</th>\n",
       "    </tr>\n",
       "  </thead>\n",
       "  <tbody>\n",
       "    <tr>\n",
       "      <th>0</th>\n",
       "      <td>148</td>\n",
       "      <td>72</td>\n",
       "      <td>35</td>\n",
       "      <td>0</td>\n",
       "      <td>33.6</td>\n",
       "      <td>0.627</td>\n",
       "      <td>50</td>\n",
       "      <td>1</td>\n",
       "    </tr>\n",
       "    <tr>\n",
       "      <th>1</th>\n",
       "      <td>85</td>\n",
       "      <td>66</td>\n",
       "      <td>29</td>\n",
       "      <td>0</td>\n",
       "      <td>26.6</td>\n",
       "      <td>0.351</td>\n",
       "      <td>31</td>\n",
       "      <td>0</td>\n",
       "    </tr>\n",
       "    <tr>\n",
       "      <th>3</th>\n",
       "      <td>89</td>\n",
       "      <td>66</td>\n",
       "      <td>23</td>\n",
       "      <td>94</td>\n",
       "      <td>28.1</td>\n",
       "      <td>0.167</td>\n",
       "      <td>21</td>\n",
       "      <td>0</td>\n",
       "    </tr>\n",
       "    <tr>\n",
       "      <th>4</th>\n",
       "      <td>137</td>\n",
       "      <td>40</td>\n",
       "      <td>35</td>\n",
       "      <td>168</td>\n",
       "      <td>43.1</td>\n",
       "      <td>2.288</td>\n",
       "      <td>33</td>\n",
       "      <td>1</td>\n",
       "    </tr>\n",
       "    <tr>\n",
       "      <th>6</th>\n",
       "      <td>78</td>\n",
       "      <td>50</td>\n",
       "      <td>32</td>\n",
       "      <td>88</td>\n",
       "      <td>31.0</td>\n",
       "      <td>0.248</td>\n",
       "      <td>26</td>\n",
       "      <td>1</td>\n",
       "    </tr>\n",
       "    <tr>\n",
       "      <th>...</th>\n",
       "      <td>...</td>\n",
       "      <td>...</td>\n",
       "      <td>...</td>\n",
       "      <td>...</td>\n",
       "      <td>...</td>\n",
       "      <td>...</td>\n",
       "      <td>...</td>\n",
       "      <td>...</td>\n",
       "    </tr>\n",
       "    <tr>\n",
       "      <th>761</th>\n",
       "      <td>170</td>\n",
       "      <td>74</td>\n",
       "      <td>31</td>\n",
       "      <td>0</td>\n",
       "      <td>44.0</td>\n",
       "      <td>0.403</td>\n",
       "      <td>43</td>\n",
       "      <td>1</td>\n",
       "    </tr>\n",
       "    <tr>\n",
       "      <th>763</th>\n",
       "      <td>101</td>\n",
       "      <td>76</td>\n",
       "      <td>48</td>\n",
       "      <td>180</td>\n",
       "      <td>32.9</td>\n",
       "      <td>0.171</td>\n",
       "      <td>63</td>\n",
       "      <td>0</td>\n",
       "    </tr>\n",
       "    <tr>\n",
       "      <th>764</th>\n",
       "      <td>122</td>\n",
       "      <td>70</td>\n",
       "      <td>27</td>\n",
       "      <td>0</td>\n",
       "      <td>36.8</td>\n",
       "      <td>0.340</td>\n",
       "      <td>27</td>\n",
       "      <td>0</td>\n",
       "    </tr>\n",
       "    <tr>\n",
       "      <th>765</th>\n",
       "      <td>121</td>\n",
       "      <td>72</td>\n",
       "      <td>23</td>\n",
       "      <td>112</td>\n",
       "      <td>26.2</td>\n",
       "      <td>0.245</td>\n",
       "      <td>30</td>\n",
       "      <td>0</td>\n",
       "    </tr>\n",
       "    <tr>\n",
       "      <th>767</th>\n",
       "      <td>93</td>\n",
       "      <td>70</td>\n",
       "      <td>31</td>\n",
       "      <td>0</td>\n",
       "      <td>30.4</td>\n",
       "      <td>0.315</td>\n",
       "      <td>23</td>\n",
       "      <td>0</td>\n",
       "    </tr>\n",
       "  </tbody>\n",
       "</table>\n",
       "<p>540 rows × 8 columns</p>\n",
       "</div>"
      ],
      "text/plain": [
       "     Glucose  BloodPressure  SkinThickness  Insulin   BMI  \\\n",
       "0        148             72             35        0  33.6   \n",
       "1         85             66             29        0  26.6   \n",
       "3         89             66             23       94  28.1   \n",
       "4        137             40             35      168  43.1   \n",
       "6         78             50             32       88  31.0   \n",
       "..       ...            ...            ...      ...   ...   \n",
       "761      170             74             31        0  44.0   \n",
       "763      101             76             48      180  32.9   \n",
       "764      122             70             27        0  36.8   \n",
       "765      121             72             23      112  26.2   \n",
       "767       93             70             31        0  30.4   \n",
       "\n",
       "     DiabetesPedigreeFunction  Age  Outcome  \n",
       "0                       0.627   50        1  \n",
       "1                       0.351   31        0  \n",
       "3                       0.167   21        0  \n",
       "4                       2.288   33        1  \n",
       "6                       0.248   26        1  \n",
       "..                        ...  ...      ...  \n",
       "761                     0.403   43        1  \n",
       "763                     0.171   63        0  \n",
       "764                     0.340   27        0  \n",
       "765                     0.245   30        0  \n",
       "767                     0.315   23        0  \n",
       "\n",
       "[540 rows x 8 columns]"
      ]
     },
     "execution_count": 22,
     "metadata": {},
     "output_type": "execute_result"
    }
   ],
   "source": [
    "df1=df[df['SkinThickness']>0]\n",
    "df1=df1[df1['SkinThickness']<90]\n",
    "df1"
   ]
  },
  {
   "cell_type": "code",
   "execution_count": 23,
   "id": "52d20d7e",
   "metadata": {
    "execution": {
     "iopub.execute_input": "2023-01-16T19:26:09.293667Z",
     "iopub.status.busy": "2023-01-16T19:26:09.293215Z",
     "iopub.status.idle": "2023-01-16T19:26:09.301012Z",
     "shell.execute_reply": "2023-01-16T19:26:09.300205Z"
    },
    "papermill": {
     "duration": 0.029437,
     "end_time": "2023-01-16T19:26:09.303075",
     "exception": false,
     "start_time": "2023-01-16T19:26:09.273638",
     "status": "completed"
    },
    "tags": []
   },
   "outputs": [],
   "source": [
    "df2=df1.dropna(how=\"any\")\n",
    "df2.reset_index(drop=True, inplace=True)"
   ]
  },
  {
   "cell_type": "code",
   "execution_count": 24,
   "id": "42f0d62c",
   "metadata": {
    "execution": {
     "iopub.execute_input": "2023-01-16T19:26:09.341360Z",
     "iopub.status.busy": "2023-01-16T19:26:09.340487Z",
     "iopub.status.idle": "2023-01-16T19:26:09.359795Z",
     "shell.execute_reply": "2023-01-16T19:26:09.358731Z"
    },
    "papermill": {
     "duration": 0.041218,
     "end_time": "2023-01-16T19:26:09.362175",
     "exception": false,
     "start_time": "2023-01-16T19:26:09.320957",
     "status": "completed"
    },
    "tags": []
   },
   "outputs": [
    {
     "data": {
      "text/html": [
       "<div>\n",
       "<style scoped>\n",
       "    .dataframe tbody tr th:only-of-type {\n",
       "        vertical-align: middle;\n",
       "    }\n",
       "\n",
       "    .dataframe tbody tr th {\n",
       "        vertical-align: top;\n",
       "    }\n",
       "\n",
       "    .dataframe thead th {\n",
       "        text-align: right;\n",
       "    }\n",
       "</style>\n",
       "<table border=\"1\" class=\"dataframe\">\n",
       "  <thead>\n",
       "    <tr style=\"text-align: right;\">\n",
       "      <th></th>\n",
       "      <th>Glucose</th>\n",
       "      <th>BloodPressure</th>\n",
       "      <th>SkinThickness</th>\n",
       "      <th>Insulin</th>\n",
       "      <th>BMI</th>\n",
       "      <th>DiabetesPedigreeFunction</th>\n",
       "      <th>Age</th>\n",
       "    </tr>\n",
       "  </thead>\n",
       "  <tbody>\n",
       "    <tr>\n",
       "      <th>0</th>\n",
       "      <td>148</td>\n",
       "      <td>72</td>\n",
       "      <td>35</td>\n",
       "      <td>0</td>\n",
       "      <td>33.6</td>\n",
       "      <td>0.627</td>\n",
       "      <td>50</td>\n",
       "    </tr>\n",
       "    <tr>\n",
       "      <th>1</th>\n",
       "      <td>85</td>\n",
       "      <td>66</td>\n",
       "      <td>29</td>\n",
       "      <td>0</td>\n",
       "      <td>26.6</td>\n",
       "      <td>0.351</td>\n",
       "      <td>31</td>\n",
       "    </tr>\n",
       "    <tr>\n",
       "      <th>2</th>\n",
       "      <td>89</td>\n",
       "      <td>66</td>\n",
       "      <td>23</td>\n",
       "      <td>94</td>\n",
       "      <td>28.1</td>\n",
       "      <td>0.167</td>\n",
       "      <td>21</td>\n",
       "    </tr>\n",
       "    <tr>\n",
       "      <th>3</th>\n",
       "      <td>137</td>\n",
       "      <td>40</td>\n",
       "      <td>35</td>\n",
       "      <td>168</td>\n",
       "      <td>43.1</td>\n",
       "      <td>2.288</td>\n",
       "      <td>33</td>\n",
       "    </tr>\n",
       "    <tr>\n",
       "      <th>4</th>\n",
       "      <td>78</td>\n",
       "      <td>50</td>\n",
       "      <td>32</td>\n",
       "      <td>88</td>\n",
       "      <td>31.0</td>\n",
       "      <td>0.248</td>\n",
       "      <td>26</td>\n",
       "    </tr>\n",
       "    <tr>\n",
       "      <th>...</th>\n",
       "      <td>...</td>\n",
       "      <td>...</td>\n",
       "      <td>...</td>\n",
       "      <td>...</td>\n",
       "      <td>...</td>\n",
       "      <td>...</td>\n",
       "      <td>...</td>\n",
       "    </tr>\n",
       "    <tr>\n",
       "      <th>535</th>\n",
       "      <td>170</td>\n",
       "      <td>74</td>\n",
       "      <td>31</td>\n",
       "      <td>0</td>\n",
       "      <td>44.0</td>\n",
       "      <td>0.403</td>\n",
       "      <td>43</td>\n",
       "    </tr>\n",
       "    <tr>\n",
       "      <th>536</th>\n",
       "      <td>101</td>\n",
       "      <td>76</td>\n",
       "      <td>48</td>\n",
       "      <td>180</td>\n",
       "      <td>32.9</td>\n",
       "      <td>0.171</td>\n",
       "      <td>63</td>\n",
       "    </tr>\n",
       "    <tr>\n",
       "      <th>537</th>\n",
       "      <td>122</td>\n",
       "      <td>70</td>\n",
       "      <td>27</td>\n",
       "      <td>0</td>\n",
       "      <td>36.8</td>\n",
       "      <td>0.340</td>\n",
       "      <td>27</td>\n",
       "    </tr>\n",
       "    <tr>\n",
       "      <th>538</th>\n",
       "      <td>121</td>\n",
       "      <td>72</td>\n",
       "      <td>23</td>\n",
       "      <td>112</td>\n",
       "      <td>26.2</td>\n",
       "      <td>0.245</td>\n",
       "      <td>30</td>\n",
       "    </tr>\n",
       "    <tr>\n",
       "      <th>539</th>\n",
       "      <td>93</td>\n",
       "      <td>70</td>\n",
       "      <td>31</td>\n",
       "      <td>0</td>\n",
       "      <td>30.4</td>\n",
       "      <td>0.315</td>\n",
       "      <td>23</td>\n",
       "    </tr>\n",
       "  </tbody>\n",
       "</table>\n",
       "<p>540 rows × 7 columns</p>\n",
       "</div>"
      ],
      "text/plain": [
       "     Glucose  BloodPressure  SkinThickness  Insulin   BMI  \\\n",
       "0        148             72             35        0  33.6   \n",
       "1         85             66             29        0  26.6   \n",
       "2         89             66             23       94  28.1   \n",
       "3        137             40             35      168  43.1   \n",
       "4         78             50             32       88  31.0   \n",
       "..       ...            ...            ...      ...   ...   \n",
       "535      170             74             31        0  44.0   \n",
       "536      101             76             48      180  32.9   \n",
       "537      122             70             27        0  36.8   \n",
       "538      121             72             23      112  26.2   \n",
       "539       93             70             31        0  30.4   \n",
       "\n",
       "     DiabetesPedigreeFunction  Age  \n",
       "0                       0.627   50  \n",
       "1                       0.351   31  \n",
       "2                       0.167   21  \n",
       "3                       2.288   33  \n",
       "4                       0.248   26  \n",
       "..                        ...  ...  \n",
       "535                     0.403   43  \n",
       "536                     0.171   63  \n",
       "537                     0.340   27  \n",
       "538                     0.245   30  \n",
       "539                     0.315   23  \n",
       "\n",
       "[540 rows x 7 columns]"
      ]
     },
     "execution_count": 24,
     "metadata": {},
     "output_type": "execute_result"
    }
   ],
   "source": [
    "#feature_cols=['Glucose','BloodPressure','SkinThickness','Insulin','BMI','DiabetesPedigreeFunction','Age']\n",
    "x=pd.DataFrame(df2, columns=['Glucose','BloodPressure','SkinThickness','Insulin','BMI','DiabetesPedigreeFunction','Age'])\n",
    "y=df2.Outcome.values.reshape(-1,1)#Target variable\n",
    "x"
   ]
  },
  {
   "cell_type": "code",
   "execution_count": 25,
   "id": "b3363a4e",
   "metadata": {
    "execution": {
     "iopub.execute_input": "2023-01-16T19:26:09.400731Z",
     "iopub.status.busy": "2023-01-16T19:26:09.400286Z",
     "iopub.status.idle": "2023-01-16T19:26:09.407727Z",
     "shell.execute_reply": "2023-01-16T19:26:09.406596Z"
    },
    "papermill": {
     "duration": 0.029669,
     "end_time": "2023-01-16T19:26:09.409875",
     "exception": false,
     "start_time": "2023-01-16T19:26:09.380206",
     "status": "completed"
    },
    "tags": []
   },
   "outputs": [],
   "source": [
    "x_train, x_test, y_train,y_test= train_test_split(x,y, test_size= 0.35, random_state=0)"
   ]
  },
  {
   "cell_type": "code",
   "execution_count": 26,
   "id": "a51990b7",
   "metadata": {
    "execution": {
     "iopub.execute_input": "2023-01-16T19:26:09.448880Z",
     "iopub.status.busy": "2023-01-16T19:26:09.448069Z",
     "iopub.status.idle": "2023-01-16T19:26:09.457930Z",
     "shell.execute_reply": "2023-01-16T19:26:09.457162Z"
    },
    "papermill": {
     "duration": 0.031841,
     "end_time": "2023-01-16T19:26:09.460062",
     "exception": false,
     "start_time": "2023-01-16T19:26:09.428221",
     "status": "completed"
    },
    "tags": []
   },
   "outputs": [],
   "source": [
    "clf=GaussianNB()\n",
    "clf.fit(x_train, y_train.ravel())\n",
    "y_pred=clf.predict (x_test)"
   ]
  },
  {
   "cell_type": "code",
   "execution_count": 27,
   "id": "c43921f0",
   "metadata": {
    "execution": {
     "iopub.execute_input": "2023-01-16T19:26:09.499372Z",
     "iopub.status.busy": "2023-01-16T19:26:09.498228Z",
     "iopub.status.idle": "2023-01-16T19:26:09.504414Z",
     "shell.execute_reply": "2023-01-16T19:26:09.503542Z"
    },
    "papermill": {
     "duration": 0.028272,
     "end_time": "2023-01-16T19:26:09.506395",
     "exception": false,
     "start_time": "2023-01-16T19:26:09.478123",
     "status": "completed"
    },
    "tags": []
   },
   "outputs": [
    {
     "name": "stdout",
     "output_type": "stream",
     "text": [
      "Accuracy:  0.7671957671957672\n"
     ]
    }
   ],
   "source": [
    "print(\"Accuracy: \" ,metrics.accuracy_score(y_test,y_pred))"
   ]
  },
  {
   "cell_type": "code",
   "execution_count": 28,
   "id": "72e78a63",
   "metadata": {
    "execution": {
     "iopub.execute_input": "2023-01-16T19:26:09.545609Z",
     "iopub.status.busy": "2023-01-16T19:26:09.544228Z",
     "iopub.status.idle": "2023-01-16T19:26:09.551276Z",
     "shell.execute_reply": "2023-01-16T19:26:09.550327Z"
    },
    "papermill": {
     "duration": 0.028553,
     "end_time": "2023-01-16T19:26:09.553507",
     "exception": false,
     "start_time": "2023-01-16T19:26:09.524954",
     "status": "completed"
    },
    "tags": []
   },
   "outputs": [
    {
     "data": {
      "text/plain": [
       "array([0, 1])"
      ]
     },
     "execution_count": 28,
     "metadata": {},
     "output_type": "execute_result"
    }
   ],
   "source": [
    "from sklearn.metrics import classification_report,confusion_matrix\n",
    "clf.classes_"
   ]
  },
  {
   "cell_type": "code",
   "execution_count": 29,
   "id": "ebd12028",
   "metadata": {
    "execution": {
     "iopub.execute_input": "2023-01-16T19:26:09.592825Z",
     "iopub.status.busy": "2023-01-16T19:26:09.592153Z",
     "iopub.status.idle": "2023-01-16T19:26:09.603277Z",
     "shell.execute_reply": "2023-01-16T19:26:09.602333Z"
    },
    "papermill": {
     "duration": 0.033332,
     "end_time": "2023-01-16T19:26:09.605416",
     "exception": false,
     "start_time": "2023-01-16T19:26:09.572084",
     "status": "completed"
    },
    "tags": []
   },
   "outputs": [
    {
     "data": {
      "text/plain": [
       "array([[301,  60],\n",
       "       [ 65, 114]])"
      ]
     },
     "execution_count": 29,
     "metadata": {},
     "output_type": "execute_result"
    }
   ],
   "source": [
    "confusion_matrix(y,clf.predict (x))"
   ]
  },
  {
   "cell_type": "code",
   "execution_count": 30,
   "id": "f50953d0",
   "metadata": {
    "execution": {
     "iopub.execute_input": "2023-01-16T19:26:09.644688Z",
     "iopub.status.busy": "2023-01-16T19:26:09.644006Z",
     "iopub.status.idle": "2023-01-16T19:26:09.800253Z",
     "shell.execute_reply": "2023-01-16T19:26:09.798653Z"
    },
    "papermill": {
     "duration": 0.180436,
     "end_time": "2023-01-16T19:26:09.804235",
     "exception": false,
     "start_time": "2023-01-16T19:26:09.623799",
     "status": "completed"
    },
    "tags": []
   },
   "outputs": [
    {
     "data": {
      "image/png": "[encoded data removed]",
      "text/plain": [
       "<Figure size 576x576 with 1 Axes>"
      ]
     },
     "metadata": {
      "needs_background": "light"
     },
     "output_type": "display_data"
    }
   ],
   "source": [
    "cm=confusion_matrix(y,clf.predict(x))\n",
    "fig,ax=plt.subplots(figsize=(8,8))\n",
    "ax.imshow(cm)\n",
    "ax.grid(False)\n",
    "ax.xaxis.set(ticks=(0,1),ticklabels=('predicted 0 s' , 'predicted 1 s'))\n",
    "ax.yaxis.set(ticks=(0,1),ticklabels=('Actual 0 s' , 'Actual 1 s'))\n",
    "ax.set_ylim(1.5,-0.5)\n",
    "for i in range (2):\n",
    "    for j in range(2):\n",
    "        ax.text(j, i, cm[i,j], ha='center', va='center', color='red')\n",
    "        \n",
    "        \n",
    "plt.show()"
   ]
  },
  {
   "cell_type": "code",
   "execution_count": 31,
   "id": "174179f9",
   "metadata": {
    "execution": {
     "iopub.execute_input": "2023-01-16T19:26:09.861964Z",
     "iopub.status.busy": "2023-01-16T19:26:09.861550Z",
     "iopub.status.idle": "2023-01-16T19:26:09.874653Z",
     "shell.execute_reply": "2023-01-16T19:26:09.873365Z"
    },
    "papermill": {
     "duration": 0.035937,
     "end_time": "2023-01-16T19:26:09.877107",
     "exception": false,
     "start_time": "2023-01-16T19:26:09.841170",
     "status": "completed"
    },
    "tags": []
   },
   "outputs": [
    {
     "name": "stdout",
     "output_type": "stream",
     "text": [
      "              precision    recall  f1-score   support\n",
      "\n",
      "           0       0.82      0.83      0.83       361\n",
      "           1       0.66      0.64      0.65       179\n",
      "\n",
      "    accuracy                           0.77       540\n",
      "   macro avg       0.74      0.74      0.74       540\n",
      "weighted avg       0.77      0.77      0.77       540\n",
      "\n"
     ]
    }
   ],
   "source": [
    "print(classification_report(y,clf.predict(x) ))"
   ]
  },
  {
   "cell_type": "code",
   "execution_count": 32,
   "id": "4fb0eaee",
   "metadata": {
    "execution": {
     "iopub.execute_input": "2023-01-16T19:26:09.918463Z",
     "iopub.status.busy": "2023-01-16T19:26:09.917618Z",
     "iopub.status.idle": "2023-01-16T19:26:09.928278Z",
     "shell.execute_reply": "2023-01-16T19:26:09.927143Z"
    },
    "papermill": {
     "duration": 0.033829,
     "end_time": "2023-01-16T19:26:09.930644",
     "exception": false,
     "start_time": "2023-01-16T19:26:09.896815",
     "status": "completed"
    },
    "scrolled": true,
    "tags": []
   },
   "outputs": [
    {
     "name": "stderr",
     "output_type": "stream",
     "text": [
      "/opt/conda/lib/python3.7/site-packages/sklearn/base.py:451: UserWarning: X does not have valid feature names, but GaussianNB was fitted with feature names\n",
      "  \"X does not have valid feature names, but\"\n"
     ]
    },
    {
     "data": {
      "text/plain": [
       "array([0])"
      ]
     },
     "execution_count": 32,
     "metadata": {},
     "output_type": "execute_result"
    }
   ],
   "source": [
    "p1=clf.predict([[60,32,43,93,29.7,0.371,60]])\n",
    "p1"
   ]
  },
  {
   "cell_type": "markdown",
   "id": "f80a2f7d",
   "metadata": {
    "papermill": {
     "duration": 0.019276,
     "end_time": "2023-01-16T19:26:09.969218",
     "exception": false,
     "start_time": "2023-01-16T19:26:09.949942",
     "status": "completed"
    },
    "tags": []
   },
   "source": [
    "### Improve Model"
   ]
  },
  {
   "cell_type": "code",
   "execution_count": 33,
   "id": "6b8df613",
   "metadata": {
    "execution": {
     "iopub.execute_input": "2023-01-16T19:26:10.011486Z",
     "iopub.status.busy": "2023-01-16T19:26:10.010787Z",
     "iopub.status.idle": "2023-01-16T19:26:10.041528Z",
     "shell.execute_reply": "2023-01-16T19:26:10.040459Z"
    },
    "papermill": {
     "duration": 0.054631,
     "end_time": "2023-01-16T19:26:10.043723",
     "exception": false,
     "start_time": "2023-01-16T19:26:09.989092",
     "status": "completed"
    },
    "tags": []
   },
   "outputs": [
    {
     "name": "stdout",
     "output_type": "stream",
     "text": [
      "[0.7962963  0.66666667 0.75       0.78703704 0.77777778]\n"
     ]
    }
   ],
   "source": [
    "from sklearn.model_selection import KFold\n",
    "from sklearn.model_selection import cross_val_score\n",
    "k_fold=KFold(5)\n",
    "print(cross_val_score (clf,x, y.ravel(), cv=k_fold , n_jobs=1))"
   ]
  },
  {
   "cell_type": "code",
   "execution_count": 34,
   "id": "f0df06a8",
   "metadata": {
    "execution": {
     "iopub.execute_input": "2023-01-16T19:26:10.084591Z",
     "iopub.status.busy": "2023-01-16T19:26:10.083868Z",
     "iopub.status.idle": "2023-01-16T19:26:10.089528Z",
     "shell.execute_reply": "2023-01-16T19:26:10.088720Z"
    },
    "papermill": {
     "duration": 0.028617,
     "end_time": "2023-01-16T19:26:10.091553",
     "exception": false,
     "start_time": "2023-01-16T19:26:10.062936",
     "status": "completed"
    },
    "tags": []
   },
   "outputs": [
    {
     "data": {
      "text/plain": [
       "108.0"
      ]
     },
     "execution_count": 34,
     "metadata": {},
     "output_type": "execute_result"
    }
   ],
   "source": [
    "540/5"
   ]
  },
  {
   "cell_type": "code",
   "execution_count": 35,
   "id": "e615b177",
   "metadata": {
    "execution": {
     "iopub.execute_input": "2023-01-16T19:26:10.132027Z",
     "iopub.status.busy": "2023-01-16T19:26:10.131304Z",
     "iopub.status.idle": "2023-01-16T19:26:10.149917Z",
     "shell.execute_reply": "2023-01-16T19:26:10.149038Z"
    },
    "papermill": {
     "duration": 0.041488,
     "end_time": "2023-01-16T19:26:10.152007",
     "exception": false,
     "start_time": "2023-01-16T19:26:10.110519",
     "status": "completed"
    },
    "tags": []
   },
   "outputs": [
    {
     "data": {
      "text/html": [
       "<div>\n",
       "<style scoped>\n",
       "    .dataframe tbody tr th:only-of-type {\n",
       "        vertical-align: middle;\n",
       "    }\n",
       "\n",
       "    .dataframe tbody tr th {\n",
       "        vertical-align: top;\n",
       "    }\n",
       "\n",
       "    .dataframe thead th {\n",
       "        text-align: right;\n",
       "    }\n",
       "</style>\n",
       "<table border=\"1\" class=\"dataframe\">\n",
       "  <thead>\n",
       "    <tr style=\"text-align: right;\">\n",
       "      <th></th>\n",
       "      <th>Glucose</th>\n",
       "      <th>BloodPressure</th>\n",
       "      <th>SkinThickness</th>\n",
       "      <th>Insulin</th>\n",
       "      <th>BMI</th>\n",
       "      <th>DiabetesPedigreeFunction</th>\n",
       "      <th>Age</th>\n",
       "      <th>Outcome</th>\n",
       "    </tr>\n",
       "  </thead>\n",
       "  <tbody>\n",
       "    <tr>\n",
       "      <th>0</th>\n",
       "      <td>148</td>\n",
       "      <td>72</td>\n",
       "      <td>35</td>\n",
       "      <td>0</td>\n",
       "      <td>33.6</td>\n",
       "      <td>0.627</td>\n",
       "      <td>50</td>\n",
       "      <td>1</td>\n",
       "    </tr>\n",
       "    <tr>\n",
       "      <th>1</th>\n",
       "      <td>85</td>\n",
       "      <td>66</td>\n",
       "      <td>29</td>\n",
       "      <td>0</td>\n",
       "      <td>26.6</td>\n",
       "      <td>0.351</td>\n",
       "      <td>31</td>\n",
       "      <td>0</td>\n",
       "    </tr>\n",
       "    <tr>\n",
       "      <th>2</th>\n",
       "      <td>89</td>\n",
       "      <td>66</td>\n",
       "      <td>23</td>\n",
       "      <td>94</td>\n",
       "      <td>28.1</td>\n",
       "      <td>0.167</td>\n",
       "      <td>21</td>\n",
       "      <td>0</td>\n",
       "    </tr>\n",
       "    <tr>\n",
       "      <th>3</th>\n",
       "      <td>137</td>\n",
       "      <td>40</td>\n",
       "      <td>35</td>\n",
       "      <td>168</td>\n",
       "      <td>43.1</td>\n",
       "      <td>2.288</td>\n",
       "      <td>33</td>\n",
       "      <td>1</td>\n",
       "    </tr>\n",
       "    <tr>\n",
       "      <th>4</th>\n",
       "      <td>78</td>\n",
       "      <td>50</td>\n",
       "      <td>32</td>\n",
       "      <td>88</td>\n",
       "      <td>31.0</td>\n",
       "      <td>0.248</td>\n",
       "      <td>26</td>\n",
       "      <td>1</td>\n",
       "    </tr>\n",
       "    <tr>\n",
       "      <th>...</th>\n",
       "      <td>...</td>\n",
       "      <td>...</td>\n",
       "      <td>...</td>\n",
       "      <td>...</td>\n",
       "      <td>...</td>\n",
       "      <td>...</td>\n",
       "      <td>...</td>\n",
       "      <td>...</td>\n",
       "    </tr>\n",
       "    <tr>\n",
       "      <th>426</th>\n",
       "      <td>170</td>\n",
       "      <td>74</td>\n",
       "      <td>31</td>\n",
       "      <td>0</td>\n",
       "      <td>44.0</td>\n",
       "      <td>0.403</td>\n",
       "      <td>43</td>\n",
       "      <td>1</td>\n",
       "    </tr>\n",
       "    <tr>\n",
       "      <th>427</th>\n",
       "      <td>101</td>\n",
       "      <td>76</td>\n",
       "      <td>48</td>\n",
       "      <td>180</td>\n",
       "      <td>32.9</td>\n",
       "      <td>0.171</td>\n",
       "      <td>63</td>\n",
       "      <td>0</td>\n",
       "    </tr>\n",
       "    <tr>\n",
       "      <th>428</th>\n",
       "      <td>122</td>\n",
       "      <td>70</td>\n",
       "      <td>27</td>\n",
       "      <td>0</td>\n",
       "      <td>36.8</td>\n",
       "      <td>0.340</td>\n",
       "      <td>27</td>\n",
       "      <td>0</td>\n",
       "    </tr>\n",
       "    <tr>\n",
       "      <th>429</th>\n",
       "      <td>121</td>\n",
       "      <td>72</td>\n",
       "      <td>23</td>\n",
       "      <td>112</td>\n",
       "      <td>26.2</td>\n",
       "      <td>0.245</td>\n",
       "      <td>30</td>\n",
       "      <td>0</td>\n",
       "    </tr>\n",
       "    <tr>\n",
       "      <th>430</th>\n",
       "      <td>93</td>\n",
       "      <td>70</td>\n",
       "      <td>31</td>\n",
       "      <td>0</td>\n",
       "      <td>30.4</td>\n",
       "      <td>0.315</td>\n",
       "      <td>23</td>\n",
       "      <td>0</td>\n",
       "    </tr>\n",
       "  </tbody>\n",
       "</table>\n",
       "<p>431 rows × 8 columns</p>\n",
       "</div>"
      ],
      "text/plain": [
       "     Glucose  BloodPressure  SkinThickness  Insulin   BMI  \\\n",
       "0        148             72             35        0  33.6   \n",
       "1         85             66             29        0  26.6   \n",
       "2         89             66             23       94  28.1   \n",
       "3        137             40             35      168  43.1   \n",
       "4         78             50             32       88  31.0   \n",
       "..       ...            ...            ...      ...   ...   \n",
       "426      170             74             31        0  44.0   \n",
       "427      101             76             48      180  32.9   \n",
       "428      122             70             27        0  36.8   \n",
       "429      121             72             23      112  26.2   \n",
       "430       93             70             31        0  30.4   \n",
       "\n",
       "     DiabetesPedigreeFunction  Age  Outcome  \n",
       "0                       0.627   50        1  \n",
       "1                       0.351   31        0  \n",
       "2                       0.167   21        0  \n",
       "3                       2.288   33        1  \n",
       "4                       0.248   26        1  \n",
       "..                        ...  ...      ...  \n",
       "426                     0.403   43        1  \n",
       "427                     0.171   63        0  \n",
       "428                     0.340   27        0  \n",
       "429                     0.245   30        0  \n",
       "430                     0.315   23        0  \n",
       "\n",
       "[431 rows x 8 columns]"
      ]
     },
     "execution_count": 35,
     "metadata": {},
     "output_type": "execute_result"
    }
   ],
   "source": [
    "df3= df2[df2.index<108]\n",
    "df4= df2[df2.index>216]\n",
    "df5= df3.append(df4)\n",
    "df5.reset_index(drop=True, inplace=True)\n",
    "df5"
   ]
  },
  {
   "cell_type": "code",
   "execution_count": 36,
   "id": "49c7228a",
   "metadata": {
    "execution": {
     "iopub.execute_input": "2023-01-16T19:26:10.192989Z",
     "iopub.status.busy": "2023-01-16T19:26:10.192312Z",
     "iopub.status.idle": "2023-01-16T19:26:10.198330Z",
     "shell.execute_reply": "2023-01-16T19:26:10.197481Z"
    },
    "papermill": {
     "duration": 0.029026,
     "end_time": "2023-01-16T19:26:10.200357",
     "exception": false,
     "start_time": "2023-01-16T19:26:10.171331",
     "status": "completed"
    },
    "tags": []
   },
   "outputs": [],
   "source": [
    "#feature_cols=['Glucose','BloodPressure','SkinThickness','Insulin','BMI','DiabetesPedigreeFunction','Age']\n",
    "x1=pd.DataFrame(df5, columns=['Glucose','BloodPressure','SkinThickness','Insulin','BMI','DiabetesPedigreeFunction','Age'])\n",
    "y1=df5.Outcome.values.reshape(-1,1)#Target variable\n"
   ]
  },
  {
   "cell_type": "code",
   "execution_count": 37,
   "id": "4dd2cbb0",
   "metadata": {
    "execution": {
     "iopub.execute_input": "2023-01-16T19:26:10.241204Z",
     "iopub.status.busy": "2023-01-16T19:26:10.240543Z",
     "iopub.status.idle": "2023-01-16T19:26:10.246758Z",
     "shell.execute_reply": "2023-01-16T19:26:10.245685Z"
    },
    "papermill": {
     "duration": 0.029401,
     "end_time": "2023-01-16T19:26:10.249110",
     "exception": false,
     "start_time": "2023-01-16T19:26:10.219709",
     "status": "completed"
    },
    "tags": []
   },
   "outputs": [],
   "source": [
    "x_train, x_test, y_train,y_test= train_test_split(x1,y1, test_size= 0.35, random_state=0)"
   ]
  },
  {
   "cell_type": "code",
   "execution_count": 38,
   "id": "df62d406",
   "metadata": {
    "execution": {
     "iopub.execute_input": "2023-01-16T19:26:10.289471Z",
     "iopub.status.busy": "2023-01-16T19:26:10.289059Z",
     "iopub.status.idle": "2023-01-16T19:26:10.299376Z",
     "shell.execute_reply": "2023-01-16T19:26:10.298255Z"
    },
    "papermill": {
     "duration": 0.033465,
     "end_time": "2023-01-16T19:26:10.301964",
     "exception": false,
     "start_time": "2023-01-16T19:26:10.268499",
     "status": "completed"
    },
    "tags": []
   },
   "outputs": [],
   "source": [
    "clf=GaussianNB()\n",
    "clf.fit(x_train, y_train.ravel())\n",
    "y_pred=clf.predict (x_test)"
   ]
  },
  {
   "cell_type": "code",
   "execution_count": 39,
   "id": "8faf782b",
   "metadata": {
    "execution": {
     "iopub.execute_input": "2023-01-16T19:26:10.343464Z",
     "iopub.status.busy": "2023-01-16T19:26:10.342703Z",
     "iopub.status.idle": "2023-01-16T19:26:10.349720Z",
     "shell.execute_reply": "2023-01-16T19:26:10.348597Z"
    },
    "papermill": {
     "duration": 0.030291,
     "end_time": "2023-01-16T19:26:10.351962",
     "exception": false,
     "start_time": "2023-01-16T19:26:10.321671",
     "status": "completed"
    },
    "tags": []
   },
   "outputs": [
    {
     "name": "stdout",
     "output_type": "stream",
     "text": [
      "Accuracy:  0.8410596026490066\n"
     ]
    }
   ],
   "source": [
    "print(\"Accuracy: \" ,metrics.accuracy_score(y_test,y_pred))"
   ]
  },
  {
   "cell_type": "code",
   "execution_count": 40,
   "id": "e191804c",
   "metadata": {
    "execution": {
     "iopub.execute_input": "2023-01-16T19:26:10.393408Z",
     "iopub.status.busy": "2023-01-16T19:26:10.392533Z",
     "iopub.status.idle": "2023-01-16T19:26:10.403502Z",
     "shell.execute_reply": "2023-01-16T19:26:10.402279Z"
    },
    "papermill": {
     "duration": 0.034374,
     "end_time": "2023-01-16T19:26:10.405888",
     "exception": false,
     "start_time": "2023-01-16T19:26:10.371514",
     "status": "completed"
    },
    "tags": []
   },
   "outputs": [
    {
     "data": {
      "text/plain": [
       "array([[255,  41],\n",
       "       [ 46,  89]])"
      ]
     },
     "execution_count": 40,
     "metadata": {},
     "output_type": "execute_result"
    }
   ],
   "source": [
    "confusion_matrix(y1,clf.predict (x1))"
   ]
  },
  {
   "cell_type": "code",
   "execution_count": 41,
   "id": "7ceb6631",
   "metadata": {
    "execution": {
     "iopub.execute_input": "2023-01-16T19:26:10.447786Z",
     "iopub.status.busy": "2023-01-16T19:26:10.446828Z",
     "iopub.status.idle": "2023-01-16T19:26:10.599594Z",
     "shell.execute_reply": "2023-01-16T19:26:10.597818Z"
    },
    "papermill": {
     "duration": 0.179126,
     "end_time": "2023-01-16T19:26:10.604746",
     "exception": false,
     "start_time": "2023-01-16T19:26:10.425620",
     "status": "completed"
    },
    "tags": []
   },
   "outputs": [
    {
     "data": {
      "image/png": "[encoded data removed]",
      "text/plain": [
       "<Figure size 576x576 with 1 Axes>"
      ]
     },
     "metadata": {
      "needs_background": "light"
     },
     "output_type": "display_data"
    }
   ],
   "source": [
    "cm=confusion_matrix(y1,clf.predict(x1))\n",
    "fig,ax=plt.subplots(figsize=(8,8))\n",
    "ax.imshow(cm)\n",
    "ax.grid(False)\n",
    "ax.xaxis.set(ticks=(0,1),ticklabels=('predicted 0 s' , 'predicted 1 s'))\n",
    "ax.yaxis.set(ticks=(0,1),ticklabels=('Actual 0 s' , 'Actual 1 s'))\n",
    "ax.set_ylim(1.5,-0.5)\n",
    "for i in range (2):\n",
    "    for j in range(2):\n",
    "        ax.text(j, i, cm[i,j], ha='center', va='center', color='red')\n",
    "        \n",
    "        \n",
    "plt.show()"
   ]
  },
  {
   "cell_type": "code",
   "execution_count": 42,
   "id": "a5f5ffe5",
   "metadata": {
    "execution": {
     "iopub.execute_input": "2023-01-16T19:26:10.665488Z",
     "iopub.status.busy": "2023-01-16T19:26:10.665086Z",
     "iopub.status.idle": "2023-01-16T19:26:10.675554Z",
     "shell.execute_reply": "2023-01-16T19:26:10.674243Z"
    },
    "papermill": {
     "duration": 0.035313,
     "end_time": "2023-01-16T19:26:10.678301",
     "exception": false,
     "start_time": "2023-01-16T19:26:10.642988",
     "status": "completed"
    },
    "tags": []
   },
   "outputs": [
    {
     "name": "stderr",
     "output_type": "stream",
     "text": [
      "/opt/conda/lib/python3.7/site-packages/sklearn/base.py:451: UserWarning: X does not have valid feature names, but GaussianNB was fitted with feature names\n",
      "  \"X does not have valid feature names, but\"\n"
     ]
    },
    {
     "data": {
      "text/plain": [
       "array([0])"
      ]
     },
     "execution_count": 42,
     "metadata": {},
     "output_type": "execute_result"
    }
   ],
   "source": [
    "p2=clf.predict([[60,32,43,93,29.7,0.371,60]])\n",
    "p2"
   ]
  },
  {
   "cell_type": "code",
   "execution_count": 43,
   "id": "971e3165",
   "metadata": {
    "execution": {
     "iopub.execute_input": "2023-01-16T19:26:10.720381Z",
     "iopub.status.busy": "2023-01-16T19:26:10.719977Z",
     "iopub.status.idle": "2023-01-16T19:26:10.733396Z",
     "shell.execute_reply": "2023-01-16T19:26:10.732027Z"
    },
    "papermill": {
     "duration": 0.036971,
     "end_time": "2023-01-16T19:26:10.735700",
     "exception": false,
     "start_time": "2023-01-16T19:26:10.698729",
     "status": "completed"
    },
    "tags": []
   },
   "outputs": [
    {
     "name": "stdout",
     "output_type": "stream",
     "text": [
      "              precision    recall  f1-score   support\n",
      "\n",
      "           0       0.85      0.86      0.85       296\n",
      "           1       0.68      0.66      0.67       135\n",
      "\n",
      "    accuracy                           0.80       431\n",
      "   macro avg       0.77      0.76      0.76       431\n",
      "weighted avg       0.80      0.80      0.80       431\n",
      "\n"
     ]
    }
   ],
   "source": [
    "print(classification_report(y1,clf.predict(x1) ))"
   ]
  },
  {
   "cell_type": "code",
   "execution_count": null,
   "id": "a11ab587",
   "metadata": {
    "papermill": {
     "duration": 0.019847,
     "end_time": "2023-01-16T19:26:10.775772",
     "exception": false,
     "start_time": "2023-01-16T19:26:10.755925",
     "status": "completed"
    },
    "tags": []
   },
   "outputs": [],
   "source": []
  }
 ],
 "metadata": {
  "kernelspec": {
   "display_name": "Python 3 (ipykernel)",
   "language": "python",
   "name": "python3"
  },
  "language_info": {
   "codemirror_mode": {
    "name": "ipython",
    "version": 3
   },
   "file_extension": ".py",
   "mimetype": "text/x-python",
   "name": "python",
   "nbconvert_exporter": "python",
   "pygments_lexer": "ipython3",
   "version": "3.12.4"
  },
  "papermill": {
   "default_parameters": {},
   "duration": 20.278452,
   "end_time": "2023-01-16T19:26:11.617879",
   "environment_variables": {},
   "exception": null,
   "input_path": "__notebook__.ipynb",
   "output_path": "__notebook__.ipynb",
   "parameters": {},
   "start_time": "2023-01-16T19:25:51.339427",
   "version": "2.3.4"
  }
 },
 "nbformat": 4,
 "nbformat_minor": 5
}
